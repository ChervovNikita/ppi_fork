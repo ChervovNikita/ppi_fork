{
 "cells": [
  {
   "cell_type": "code",
   "execution_count": 59,
   "metadata": {},
   "outputs": [
    {
     "name": "stdout",
     "output_type": "stream",
     "text": [
      "7209\n"
     ]
    }
   ],
   "source": [
    "import os\n",
    "# real_data = set([x.strip('.pt') for x in os.listdir(\"/workspace/human_features/processed\")])\n",
    "# real_data = set([x.strip('.pdb') for x in os.listdir(\"/workspace/ppi_dataset/pdb_files-negative\")])\n",
    "real_data = set([x.strip('.pt') for x in os.listdir(\"/workspace/human_features/processed\")])\n",
    "print(len(real_data))\n",
    "# real_data.update(\n",
    "#     set([x.strip('.pdb') for x in os.listdir(\"/workspace/ppi_dataset/pdb_files-positive\")])\n",
    "# )\n",
    "# print(len(real_data))"
   ]
  },
  {
   "cell_type": "code",
   "execution_count": 60,
   "metadata": {},
   "outputs": [
    {
     "data": {
      "text/plain": [
       "'7PLS'"
      ]
     },
     "execution_count": 60,
     "metadata": {},
     "output_type": "execute_result"
    }
   ],
   "source": [
    "list(real_data)[0]"
   ]
  },
  {
   "cell_type": "code",
   "execution_count": 61,
   "metadata": {},
   "outputs": [],
   "source": [
    "from copy import deepcopy\n",
    "\n",
    "positive_labels = [x.strip().split() for x in open('/workspace/ppi_dataset/updated_interactions-POSITIVE.txt', 'r').readlines()]\n",
    "negative_labels = [x.strip().split() for x in open('/workspace/ppi_dataset/updated_interactions-NEGATIVE-FINAL.txt', 'r').readlines()]\n",
    "\n",
    "full_data = []\n",
    "for row in positive_labels:\n",
    "    row[-1] = float(row[-1])\n",
    "    full_data.append(row)\n",
    "for row in negative_labels:\n",
    "    full_data.append(row + [0.0])"
   ]
  },
  {
   "cell_type": "code",
   "execution_count": 62,
   "metadata": {},
   "outputs": [],
   "source": [
    "positive_mapping = [x.strip().split() for x in open('/workspace/ppi_dataset/proteinID2PDB-positive_samples.txt', 'r').readlines()]\n",
    "negative_mapping = [x.strip().split() for x in open('/workspace/ppi_dataset/proteinID2PDB-negative_samples.txt', 'r').readlines()]\n",
    "\n",
    "mapping = {}\n",
    "rev_mapping = {}\n",
    "for k, v in positive_mapping:\n",
    "    mapping[k] = v\n",
    "    rev_mapping[v] = k\n",
    "for k, v in negative_mapping:\n",
    "    mapping[k] = v\n",
    "    rev_mapping[v] = k"
   ]
  },
  {
   "cell_type": "code",
   "execution_count": 63,
   "metadata": {},
   "outputs": [],
   "source": [
    "full_data = [[mapping[x[0]], mapping[x[1]], x[2]] for x in full_data]"
   ]
  },
  {
   "cell_type": "code",
   "execution_count": 64,
   "metadata": {},
   "outputs": [],
   "source": [
    "filtered_data = []\n",
    "for row in full_data:\n",
    "    if row[0] in real_data and row[1] in real_data:\n",
    "        filtered_data.append(row)"
   ]
  },
  {
   "cell_type": "code",
   "execution_count": 65,
   "metadata": {},
   "outputs": [
    {
     "data": {
      "text/plain": [
       "(149497, 171925)"
      ]
     },
     "execution_count": 65,
     "metadata": {},
     "output_type": "execute_result"
    }
   ],
   "source": [
    "len(filtered_data), len(full_data)"
   ]
  },
  {
   "cell_type": "code",
   "execution_count": 66,
   "metadata": {},
   "outputs": [],
   "source": [
    "from sklearn.model_selection import train_test_split\n",
    "\n",
    "train_names, test_names = train_test_split(list(real_data), test_size=0.2)"
   ]
  },
  {
   "cell_type": "code",
   "execution_count": 67,
   "metadata": {},
   "outputs": [],
   "source": [
    "train_names = set(train_names)\n",
    "test_names = set(test_names)"
   ]
  },
  {
   "cell_type": "code",
   "execution_count": 68,
   "metadata": {},
   "outputs": [],
   "source": [
    "train_pairs = []\n",
    "test_pairs = []\n",
    "mixed_pairs = []\n",
    "for row in filtered_data:\n",
    "    if row[0] in train_names and row[1] in train_names:\n",
    "        train_pairs.append(row)\n",
    "    elif row[0] in test_names and row[1] in test_names:\n",
    "        test_pairs.append(row)\n",
    "    else:\n",
    "        mixed_pairs.append(row)"
   ]
  },
  {
   "cell_type": "code",
   "execution_count": 69,
   "metadata": {},
   "outputs": [
    {
     "data": {
      "text/plain": [
       "(98396, 5677, 45424)"
      ]
     },
     "execution_count": 69,
     "metadata": {},
     "output_type": "execute_result"
    }
   ],
   "source": [
    "len(train_pairs), len(test_pairs), len(mixed_pairs)"
   ]
  },
  {
   "cell_type": "code",
   "execution_count": 70,
   "metadata": {},
   "outputs": [],
   "source": [
    "import numpy as np\n",
    "\n",
    "def generate_file(pairs, path):\n",
    "    data = [['', '', row[0], '', '', row[1], row[2]] for row in pairs]\n",
    "    np.random.shuffle(data)\n",
    "    data = np.array(data, dtype='<U12')\n",
    "    np.save(path, data)"
   ]
  },
  {
   "cell_type": "code",
   "execution_count": 71,
   "metadata": {},
   "outputs": [],
   "source": [
    "generate_file(train_pairs, 'human_features/npy_file_new(human_dataset).npy')\n",
    "generate_file(test_pairs, 'human_features/npy_file_new(human_dataset)_test.npy')"
   ]
  },
  {
   "cell_type": "code",
   "execution_count": null,
   "metadata": {},
   "outputs": [],
   "source": []
  },
  {
   "cell_type": "code",
   "execution_count": 51,
   "metadata": {},
   "outputs": [],
   "source": [
    "import os\n",
    "files = os.listdir('human_features/raw')"
   ]
  },
  {
   "cell_type": "code",
   "execution_count": 54,
   "metadata": {},
   "outputs": [
    {
     "data": {
      "text/plain": [
       "True"
      ]
     },
     "execution_count": 54,
     "metadata": {},
     "output_type": "execute_result"
    }
   ],
   "source": [
    "'2OZB.pdb' in files"
   ]
  },
  {
   "cell_type": "code",
   "execution_count": 56,
   "metadata": {},
   "outputs": [
    {
     "data": {
      "text/plain": [
       "False"
      ]
     },
     "execution_count": 56,
     "metadata": {},
     "output_type": "execute_result"
    }
   ],
   "source": [
    "pfiles = os.listdir('human_features/processed')\n",
    "'2OZB.pt' in pfiles"
   ]
  },
  {
   "cell_type": "code",
   "execution_count": 58,
   "metadata": {},
   "outputs": [
    {
     "data": {
      "text/plain": [
       "(7820, 7209)"
      ]
     },
     "execution_count": 58,
     "metadata": {},
     "output_type": "execute_result"
    }
   ],
   "source": [
    "len(files), len(pfiles)"
   ]
  },
  {
   "cell_type": "code",
   "execution_count": null,
   "metadata": {},
   "outputs": [],
   "source": []
  },
  {
   "cell_type": "code",
   "execution_count": null,
   "metadata": {},
   "outputs": [],
   "source": []
  },
  {
   "cell_type": "code",
   "execution_count": null,
   "metadata": {},
   "outputs": [],
   "source": []
  },
  {
   "cell_type": "code",
   "execution_count": 89,
   "metadata": {},
   "outputs": [],
   "source": [
    "negatives = \"/workspace/data/ppi_dataset/pdb_negative-dataset.txt\"\n",
    "positives = \"/workspace/data/ppi_dataset/positive_PDB-ids.txt\"\n",
    "\n",
    "negatives = [x.strip() for x in open(negatives, \"r\").readlines() if x.strip() in real_data]\n",
    "positives = [x.strip() for x in open(positives, \"r\").readlines() if x.strip() in real_data]"
   ]
  },
  {
   "cell_type": "code",
   "execution_count": 90,
   "metadata": {},
   "outputs": [
    {
     "data": {
      "text/plain": [
       "(1918, 6459)"
      ]
     },
     "execution_count": 90,
     "metadata": {},
     "output_type": "execute_result"
    }
   ],
   "source": [
    "len(negatives), len(positives)"
   ]
  },
  {
   "cell_type": "code",
   "execution_count": 91,
   "metadata": {},
   "outputs": [],
   "source": [
    "from sklearn.model_selection import train_test_split\n",
    "\n",
    "negative_train, negative_test = train_test_split(negatives, test_size=0.2, random_state=42)\n",
    "positive_train, positive_test = train_test_split(positives, test_size=0.2, random_state=42)"
   ]
  },
  {
   "cell_type": "code",
   "execution_count": 92,
   "metadata": {},
   "outputs": [],
   "source": [
    "def generate_data(els, label):\n",
    "    data = []\n",
    "    for el in els:\n",
    "        for el2 in els:\n",
    "            if el != el2:\n",
    "                data.append([el, el2, label])\n",
    "    return data\n",
    "\n",
    "negative_train_pairs = generate_data(negative_train, 0)\n",
    "negative_test_pairs = generate_data(negative_test, 0)\n",
    "positive_train_pairs = generate_data(positive_train, 1)\n",
    "positive_test_pairs = generate_data(positive_test, 1)"
   ]
  },
  {
   "cell_type": "code",
   "execution_count": 93,
   "metadata": {},
   "outputs": [],
   "source": [
    "negative_train_pairs = negative_train_pairs[:100000]\n",
    "positive_train_pairs = positive_train_pairs[:100000]\n",
    "\n",
    "negative_test_pairs = negative_test_pairs[:20000]\n",
    "positive_test_pairs = positive_test_pairs[:20000]"
   ]
  },
  {
   "cell_type": "code",
   "execution_count": 94,
   "metadata": {},
   "outputs": [],
   "source": [
    "data_train = negative_train_pairs + positive_train_pairs\n",
    "data_test = negative_test_pairs + positive_test_pairs\n",
    "\n",
    "data_train = [['', '', row[0], '', '', row[1], row[2]] for row in data_train]\n",
    "data_test = [['', '', row[0], '', '', row[1], row[2]] for row in data_test]\n",
    "\n",
    "np.random.shuffle(data_train)\n",
    "np.random.shuffle(data_test)\n",
    "\n",
    "data_train = np.array(data_train, dtype='<U12')\n",
    "data_test = np.array(data_test, dtype='<U12')\n",
    "\n",
    "\n",
    "np.save(\"/workspace/human_features/npy_file_new(human_dataset).npy\", data_train)\n",
    "np.save(\"/workspace/human_features/npy_file_new(human_dataset)_test.npy\", data_test)"
   ]
  },
  {
   "cell_type": "code",
   "execution_count": 96,
   "metadata": {
    "scrolled": true
   },
   "outputs": [
    {
     "data": {
      "text/plain": [
       "array([['', '', '3FIE', ..., '', '2E7M', '1'],\n",
       "       ['', '', '1DEB', ..., '', '7W3Z', '1'],\n",
       "       ['', '', '8IP3', ..., '', '2F5H', '1'],\n",
       "       ...,\n",
       "       ['', '', '3FIE', ..., '', '4NJ8', '1'],\n",
       "       ['', '', '1BTN', ..., '', '2L7Z', '0'],\n",
       "       ['', '', '4PZN', ..., '', '3OGK', '0']], dtype='<U12')"
      ]
     },
     "execution_count": 96,
     "metadata": {},
     "output_type": "execute_result"
    }
   ],
   "source": [
    "data_train"
   ]
  },
  {
   "cell_type": "code",
   "execution_count": null,
   "metadata": {},
   "outputs": [],
   "source": []
  },
  {
   "cell_type": "code",
   "execution_count": null,
   "metadata": {},
   "outputs": [],
   "source": []
  },
  {
   "cell_type": "code",
   "execution_count": null,
   "metadata": {},
   "outputs": [],
   "source": []
  },
  {
   "cell_type": "code",
   "execution_count": 101,
   "metadata": {},
   "outputs": [
    {
     "data": {
      "text/plain": [
       "Data()"
      ]
     },
     "execution_count": 101,
     "metadata": {},
     "output_type": "execute_result"
    }
   ],
   "source": [
    "import torch\n",
    "from torch_geometric.data import Data\n",
    "\n",
    "file = \"/workspace/human_features/processed/4PZN.pt\"\n",
    "\n",
    "def bump(g):\n",
    "    return Data.from_dict(g.__dict__)\n",
    "\n",
    "bump(torch.load(file))"
   ]
  },
  {
   "cell_type": "code",
   "execution_count": null,
   "metadata": {},
   "outputs": [],
   "source": []
  },
  {
   "cell_type": "code",
   "execution_count": null,
   "metadata": {},
   "outputs": [],
   "source": []
  },
  {
   "cell_type": "code",
   "execution_count": null,
   "metadata": {},
   "outputs": [],
   "source": []
  },
  {
   "cell_type": "code",
   "execution_count": null,
   "metadata": {},
   "outputs": [],
   "source": []
  },
  {
   "cell_type": "code",
   "execution_count": 56,
   "metadata": {},
   "outputs": [],
   "source": [
    "import os\n",
    "for name in os.listdir(\"/workspace/human_features/processed\"):\n",
    "    if name.startswith(\"Q\"):\n",
    "        print(name)\n"
   ]
  },
  {
   "cell_type": "code",
   "execution_count": null,
   "metadata": {},
   "outputs": [],
   "source": []
  },
  {
   "cell_type": "code",
   "execution_count": null,
   "metadata": {},
   "outputs": [],
   "source": []
  },
  {
   "cell_type": "code",
   "execution_count": null,
   "metadata": {},
   "outputs": [],
   "source": []
  },
  {
   "cell_type": "code",
   "execution_count": 72,
   "metadata": {},
   "outputs": [],
   "source": [
    "import numpy as np"
   ]
  },
  {
   "cell_type": "code",
   "execution_count": 75,
   "metadata": {},
   "outputs": [],
   "source": [
    "data = np.load('human_features/npy_file_new(human_dataset).npy')"
   ]
  },
  {
   "cell_type": "code",
   "execution_count": 76,
   "metadata": {},
   "outputs": [
    {
     "data": {
      "text/plain": [
       "array([['', '', '2MRE', ..., '', '4GEI', '0.335467'],\n",
       "       ['', '', '2DMV', ..., '', '1LB4', '0.599047'],\n",
       "       ['', '', '2XU7', ..., '', '1XWW', '0.0'],\n",
       "       ...,\n",
       "       ['', '', '1D2S', ..., '', '1D2S', '0.254085'],\n",
       "       ['', '', '8WQR', ..., '', '5JCO', '0.335467'],\n",
       "       ['', '', '4JNB', ..., '', '1S3O', '0.0']], dtype='<U12')"
      ]
     },
     "execution_count": 76,
     "metadata": {},
     "output_type": "execute_result"
    }
   ],
   "source": [
    "data"
   ]
  },
  {
   "cell_type": "code",
   "execution_count": null,
   "metadata": {},
   "outputs": [],
   "source": []
  }
 ],
 "metadata": {
  "kernelspec": {
   "display_name": "Python 3 (ipykernel)",
   "language": "python",
   "name": "python3"
  },
  "language_info": {
   "codemirror_mode": {
    "name": "ipython",
    "version": 3
   },
   "file_extension": ".py",
   "mimetype": "text/x-python",
   "name": "python",
   "nbconvert_exporter": "python",
   "pygments_lexer": "ipython3",
   "version": "3.10.12"
  }
 },
 "nbformat": 4,
 "nbformat_minor": 4
}
