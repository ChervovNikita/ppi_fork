{
 "cells": [
  {
   "cell_type": "code",
   "execution_count": 2,
   "id": "929c25f3-30cd-4360-b4bb-603bc0575d2c",
   "metadata": {},
   "outputs": [],
   "source": [
    "import os\n",
    "import numpy as np"
   ]
  },
  {
   "cell_type": "code",
   "execution_count": 16,
   "id": "7f6cb80c-bd0e-4212-a0b4-ee1334bbcc00",
   "metadata": {},
   "outputs": [],
   "source": [
    "import os\n",
    "import torch\n",
    "import glob\n",
    "import numpy as np \n",
    "import random\n",
    "import math\n",
    "from os import listdir\n",
    "from os.path import isfile, join\n",
    "from torch.utils.data import Dataset as Dataset_n\n",
    "from torch_geometric.data import DataLoader as DataLoader_n\n",
    "from torch_geometric.data import Data\n",
    "\n",
    "def bump(g):\n",
    "    return g\n",
    "    # return Data.from_dict(g.__dict__)\n",
    "\n",
    "class LabelledDataset(Dataset_n):\n",
    "    def __init__(self, npy_file, processed_dir):\n",
    "      self.npy_ar = np.load(npy_file)\n",
    "      self.processed_dir = processed_dir\n",
    "      self.protein_1 = self.npy_ar[:,2]\n",
    "      self.protein_2 = self.npy_ar[:,5]\n",
    "      self.label = self.npy_ar[:,6].astype(float)\n",
    "      self.n_samples = self.npy_ar.shape[0]\n",
    "\n",
    "    def __len__(self):\n",
    "      return(self.n_samples)\n",
    "\n",
    "    def __getitem__(self, index):\n",
    "      prot_1 = os.path.join(self.processed_dir, self.protein_1[index]+\".pt\")\n",
    "      prot_2 = os.path.join(self.processed_dir, self.protein_2[index]+\".pt\")\n",
    "      prot_1 = torch.load(glob.glob(prot_1)[0])['mean_representations'][33]\n",
    "      prot_2 = torch.load(glob.glob(prot_2)[0])['mean_representations'][33]\n",
    "      prot_1 = bump(prot_1)\n",
    "      prot_2 = bump(prot_2)\n",
    "      return prot_1, prot_2, torch.tensor(self.label[index])"
   ]
  },
  {
   "cell_type": "code",
   "execution_count": 29,
   "id": "ceb515e1-3224-4f68-9f80-062434ac0efe",
   "metadata": {},
   "outputs": [],
   "source": [
    "npy_file = \"../human_features/npy_file_new(human_dataset).npy\"\n",
    "npy_file_test = \"../human_features/npy_file_new(human_dataset)_test.npy\"\n",
    "processed_dir=\"../human_features/esm/\"\n",
    "# train = LabelledDataset(npy_file=npy_file, processed_dir=processed_dir)\n",
    "# test = LabelledDataset(npy_file=npy_file_test, processed_dir=processed_dir)"
   ]
  },
  {
   "cell_type": "code",
   "execution_count": 45,
   "id": "04c96aa9-c61f-4519-bcd5-01ce9c6e314a",
   "metadata": {},
   "outputs": [
    {
     "data": {
      "application/vnd.jupyter.widget-view+json": {
       "model_id": "1ff99852db464aefac8f5ac63dbb46f9",
       "version_major": 2,
       "version_minor": 0
      },
      "text/plain": [
       "  0%|          | 0/98396 [00:00<?, ?it/s]"
      ]
     },
     "metadata": {},
     "output_type": "display_data"
    },
    {
     "name": "stderr",
     "output_type": "stream",
     "text": [
      "IOPub message rate exceeded.\n",
      "The Jupyter server will temporarily stop sending output\n",
      "to the client in order to avoid crashing it.\n",
      "To change this limit, set the config variable\n",
      "`--ServerApp.iopub_msg_rate_limit`.\n",
      "\n",
      "Current values:\n",
      "ServerApp.iopub_msg_rate_limit=1000.0 (msgs/sec)\n",
      "ServerApp.rate_limit_window=3.0 (secs)\n",
      "\n"
     ]
    }
   ],
   "source": [
    "from tqdm.auto import tqdm\n",
    "\n",
    "X_train = []\n",
    "y_train = []\n",
    "mapping_train = np.load(npy_file)\n",
    "bad_rows = []\n",
    "for row in tqdm(mapping_train):\n",
    "    try:\n",
    "        _, _, prot1, _, _, prot2, label = row\n",
    "        prot_1 = os.path.join(processed_dir, prot1+\".pt\")\n",
    "        prot_2 = os.path.join(processed_dir, prot2+\".pt\")\n",
    "        prot_1 = torch.load(glob.glob(prot_1)[0])['mean_representations'][33]\n",
    "        prot_2 = torch.load(glob.glob(prot_2)[0])['mean_representations'][33]\n",
    "        p = torch.cat([prot_1, prot_2])\n",
    "        label = float(label)\n",
    "        X_train.append(p)\n",
    "        y_train.append(label)\n",
    "    except:\n",
    "        bad_rows.append(row)"
   ]
  },
  {
   "cell_type": "code",
   "execution_count": 70,
   "id": "a4c0e6a8-3a60-434c-a58f-de53d809f62c",
   "metadata": {},
   "outputs": [
    {
     "data": {
      "application/vnd.jupyter.widget-view+json": {
       "model_id": "d4047e3fbd474300bdf3359b6002ab2e",
       "version_major": 2,
       "version_minor": 0
      },
      "text/plain": [
       "  0%|          | 0/5677 [00:00<?, ?it/s]"
      ]
     },
     "metadata": {},
     "output_type": "display_data"
    }
   ],
   "source": [
    "X_test = []\n",
    "y_test = []\n",
    "bad_test_rows = []\n",
    "mapping_test = np.load(npy_file_test)\n",
    "for row in tqdm(mapping_test):\n",
    "    try:\n",
    "        _, _, prot1, _, _, prot2, label = row\n",
    "        prot_1 = os.path.join(processed_dir, prot1+\".pt\")\n",
    "        prot_2 = os.path.join(processed_dir, prot2+\".pt\")\n",
    "        prot_1 = torch.load(glob.glob(prot_1)[0])['mean_representations'][33]\n",
    "        prot_2 = torch.load(glob.glob(prot_2)[0])['mean_representations'][33]\n",
    "        p = torch.cat([prot_1, prot_2])\n",
    "        label = float(label)\n",
    "        X_test.append(p)\n",
    "        y_test.append(label)\n",
    "    except:\n",
    "        bad_test_rows.append(row)"
   ]
  },
  {
   "cell_type": "code",
   "execution_count": 49,
   "id": "36eae427-9982-4232-a803-3824b527e21a",
   "metadata": {},
   "outputs": [],
   "source": [
    "for i in range(len(X_train)):\n",
    "    X_train[i] = X_train[i][None, :]"
   ]
  },
  {
   "cell_type": "code",
   "execution_count": 52,
   "id": "551e20c1-7fae-4d0a-9639-549403b70e0e",
   "metadata": {},
   "outputs": [],
   "source": [
    "X_train = torch.cat(X_train)"
   ]
  },
  {
   "cell_type": "code",
   "execution_count": 59,
   "id": "312f6d03-ca8d-49b7-9ebb-967b1715cec2",
   "metadata": {},
   "outputs": [],
   "source": [
    "from sklearn.model_selection import train_test_split\n",
    "\n",
    "train, val, ytrain, yval = train_test_split(X_train, y_train, test_size=0.2)"
   ]
  },
  {
   "cell_type": "code",
   "execution_count": 60,
   "id": "1fd5cc1b-ecf9-4f35-8fc3-375d767de9c7",
   "metadata": {},
   "outputs": [],
   "source": [
    "ytrain = [x > 0 for x in ytrain]\n",
    "yval = [x > 0 for x in yval]"
   ]
  },
  {
   "cell_type": "code",
   "execution_count": 63,
   "id": "7ebd27fe-f0bb-401e-b346-9e7eef1d6b16",
   "metadata": {},
   "outputs": [],
   "source": [
    "from sklearn.linear_model import LogisticRegression"
   ]
  },
  {
   "cell_type": "code",
   "execution_count": 64,
   "id": "5dcb160c-b4f5-4db9-9cf6-10a9e8c06f1c",
   "metadata": {},
   "outputs": [
    {
     "name": "stderr",
     "output_type": "stream",
     "text": [
      "/usr/local/lib/python3.10/dist-packages/sklearn/linear_model/_logistic.py:465: ConvergenceWarning: lbfgs failed to converge (status=1):\n",
      "STOP: TOTAL NO. OF ITERATIONS REACHED LIMIT.\n",
      "\n",
      "Increase the number of iterations (max_iter) or scale the data as shown in:\n",
      "    https://scikit-learn.org/stable/modules/preprocessing.html\n",
      "Please also refer to the documentation for alternative solver options:\n",
      "    https://scikit-learn.org/stable/modules/linear_model.html#logistic-regression\n",
      "  n_iter_i = _check_optimize_result(\n"
     ]
    }
   ],
   "source": [
    "logreg = LogisticRegression().fit(train, ytrain)"
   ]
  },
  {
   "cell_type": "code",
   "execution_count": 67,
   "id": "74a98096-2a65-4abd-97e1-334c99d7d30e",
   "metadata": {},
   "outputs": [
    {
     "data": {
      "text/plain": [
       "0.9602628763564114"
      ]
     },
     "execution_count": 67,
     "metadata": {},
     "output_type": "execute_result"
    }
   ],
   "source": [
    "from sklearn.metrics import accuracy_score\n",
    "accuracy_score(yval, logreg.predict(val))"
   ]
  },
  {
   "cell_type": "code",
   "execution_count": 72,
   "id": "6cb844b6-2bd5-4ec2-8252-3903bf2f3b3f",
   "metadata": {},
   "outputs": [],
   "source": [
    "for i in range(len(X_test)):\n",
    "    X_test[i] = X_test[i][None, :]\n",
    "X_test = torch.cat(X_test)\n",
    "y_test = [x > 0 for x in y_test]"
   ]
  },
  {
   "cell_type": "code",
   "execution_count": 78,
   "id": "b45899ed-6269-4ed9-9806-41337c29a5c8",
   "metadata": {},
   "outputs": [],
   "source": [
    "X_test = X_test.squeeze(1)"
   ]
  },
  {
   "cell_type": "code",
   "execution_count": 79,
   "id": "413dcad7-4057-4f3a-8605-668552265d18",
   "metadata": {},
   "outputs": [
    {
     "data": {
      "text/plain": [
       "0.9393564356435643"
      ]
     },
     "execution_count": 79,
     "metadata": {},
     "output_type": "execute_result"
    }
   ],
   "source": [
    "accuracy_score(y_test, logreg.predict(X_test))"
   ]
  },
  {
   "cell_type": "code",
   "execution_count": 80,
   "id": "3f8da981-5fe3-4c7a-b514-789a81903ad7",
   "metadata": {},
   "outputs": [
    {
     "data": {
      "text/plain": [
       "Counter({True: 5203, False: 453})"
      ]
     },
     "execution_count": 80,
     "metadata": {},
     "output_type": "execute_result"
    }
   ],
   "source": [
    "from collections import Counter\n",
    "Counter(y_test)"
   ]
  },
  {
   "cell_type": "code",
   "execution_count": 82,
   "id": "37c87515-0ce5-4163-9256-1be24f6369b9",
   "metadata": {},
   "outputs": [
    {
     "data": {
      "text/plain": [
       "0.9199080622347949"
      ]
     },
     "execution_count": 82,
     "metadata": {},
     "output_type": "execute_result"
    }
   ],
   "source": [
    "5203 / (453 + 5203) "
   ]
  },
  {
   "cell_type": "code",
   "execution_count": null,
   "id": "f05b818f-f7f7-4ba1-9119-9be999666bb5",
   "metadata": {},
   "outputs": [],
   "source": []
  },
  {
   "cell_type": "code",
   "execution_count": null,
   "id": "c1c619c3-d9e2-4f0b-8ab3-a75fe71fe56f",
   "metadata": {},
   "outputs": [],
   "source": []
  },
  {
   "cell_type": "code",
   "execution_count": null,
   "id": "570e90d7-7f0f-4200-b03a-182a1fb2f656",
   "metadata": {},
   "outputs": [],
   "source": []
  },
  {
   "cell_type": "code",
   "execution_count": null,
   "id": "cee37137-b5ca-4062-9acf-7aac1dc2da20",
   "metadata": {},
   "outputs": [],
   "source": []
  }
 ],
 "metadata": {
  "kernelspec": {
   "display_name": "Python 3 (ipykernel)",
   "language": "python",
   "name": "python3"
  },
  "language_info": {
   "codemirror_mode": {
    "name": "ipython",
    "version": 3
   },
   "file_extension": ".py",
   "mimetype": "text/x-python",
   "name": "python",
   "nbconvert_exporter": "python",
   "pygments_lexer": "ipython3",
   "version": "3.10.12"
  }
 },
 "nbformat": 4,
 "nbformat_minor": 5
}
