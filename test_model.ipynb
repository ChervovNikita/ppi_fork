{
 "cells": [
  {
   "cell_type": "code",
   "execution_count": 1,
   "id": "e6c9056b-4bce-458d-b1b1-d25c88fafdc3",
   "metadata": {},
   "outputs": [
    {
     "name": "stdout",
     "output_type": "stream",
     "text": [
      "(98396, 7)\n",
      "Size is : \n",
      "98396\n",
      "Length\n",
      "19679\n",
      "4920\n",
      "GCNN Loaded\n",
      "GCNN(\n",
      "  (pro1_conv1): GCNConv(1024, 1024)\n",
      "  (pro1_fc1): Linear(in_features=1024, out_features=128, bias=True)\n",
      "  (pro2_conv1): GCNConv(1024, 1024)\n",
      "  (pro2_fc1): Linear(in_features=1024, out_features=128, bias=True)\n",
      "  (relu): LeakyReLU(negative_slope=0.01)\n",
      "  (dropout): Dropout(p=0.2, inplace=False)\n",
      "  (sigmoid): Sigmoid()\n",
      "  (fc1): Linear(in_features=256, out_features=256, bias=True)\n",
      "  (fc2): Linear(in_features=256, out_features=64, bias=True)\n",
      "  (out): Linear(in_features=64, out_features=1, bias=True)\n",
      ")\n",
      "AttGNN Loaded\n",
      "AttGNN(\n",
      "  (pro1_conv1): GATConv(1024, 128, heads=1)\n",
      "  (pro1_fc1): Linear(in_features=128, out_features=128, bias=True)\n",
      "  (pro2_conv1): GATConv(1024, 128, heads=1)\n",
      "  (pro2_fc1): Linear(in_features=128, out_features=128, bias=True)\n",
      "  (relu): LeakyReLU(negative_slope=0.01)\n",
      "  (sigmoid): Sigmoid()\n",
      "  (dropout): Dropout(p=0.2, inplace=False)\n",
      "  (fc1): Linear(in_features=256, out_features=256, bias=True)\n",
      "  (fc2): Linear(in_features=256, out_features=64, bias=True)\n",
      "  (out): Linear(in_features=64, out_features=1, bias=True)\n",
      ")\n",
      "GCNN Loaded\n"
     ]
    },
    {
     "name": "stderr",
     "output_type": "stream",
     "text": [
      "/usr/local/lib/python3.10/dist-packages/torch_geometric/deprecation.py:26: UserWarning: 'data.DataLoader' is deprecated, use 'loader.DataLoader' instead\n",
      "  warnings.warn(out)\n"
     ]
    },
    {
     "data": {
      "text/plain": [
       "GCNN(\n",
       "  (pro1_conv1): GCNConv(1024, 1024)\n",
       "  (pro1_fc1): Linear(in_features=1024, out_features=128, bias=True)\n",
       "  (pro2_conv1): GCNConv(1024, 1024)\n",
       "  (pro2_fc1): Linear(in_features=1024, out_features=128, bias=True)\n",
       "  (relu): LeakyReLU(negative_slope=0.01)\n",
       "  (dropout): Dropout(p=0.2, inplace=False)\n",
       "  (sigmoid): Sigmoid()\n",
       "  (fc1): Linear(in_features=256, out_features=256, bias=True)\n",
       "  (fc2): Linear(in_features=256, out_features=64, bias=True)\n",
       "  (out): Linear(in_features=64, out_features=1, bias=True)\n",
       ")"
      ]
     },
     "execution_count": 1,
     "metadata": {},
     "output_type": "execute_result"
    }
   ],
   "source": [
    "import torch\n",
    "import numpy as np\n",
    "import pandas as pd\n",
    "import matplotlib.pyplot as plt\n",
    "from metrics import *\n",
    "from data_prepare import testloader\n",
    "from models import GCNN, AttGNN\n",
    "\n",
    "\n",
    "device = torch.device(\"cuda:0\") if torch.cuda.is_available() else torch.cuda(\"cpu\")\n",
    "model = GCNN()\n",
    "model.load_state_dict(torch.load(\"../human_features/GCN.pth\")) #path to load the model\n",
    "model.to(device)\n",
    "model.eval()"
   ]
  },
  {
   "cell_type": "code",
   "execution_count": 2,
   "id": "78d1ae94-6d59-43cb-aa89-b9c5ee1ebe7b",
   "metadata": {},
   "outputs": [],
   "source": [
    "import os\n",
    "import torch\n",
    "import glob\n",
    "import numpy as np \n",
    "import random\n",
    "import math\n",
    "from os import listdir\n",
    "from os.path import isfile, join\n",
    "from torch.utils.data import Dataset as Dataset_n\n",
    "from torch_geometric.data import DataLoader as DataLoader_n\n",
    "from torch_geometric.data import Data\n",
    "\n",
    "npy_file = \"../human_features/npy_file_new(human_dataset)_test.npy\"\n",
    "processed_dir=\"../human_features/processed/\"\n",
    "def bump(g):\n",
    "    return g\n",
    "    # return Data.from_dict(g.__dict__)\n",
    "\n",
    "class LabelledDataset(Dataset_n):\n",
    "    def __init__(self, npy_file, processed_dir):\n",
    "      self.npy_ar = np.load(npy_file)\n",
    "      self.processed_dir = processed_dir\n",
    "      self.protein_1 = self.npy_ar[:,2]\n",
    "      self.protein_2 = self.npy_ar[:,5]\n",
    "      self.label = self.npy_ar[:,6].astype(float)\n",
    "      self.n_samples = self.npy_ar.shape[0]\n",
    "\n",
    "    def __len__(self):\n",
    "      return(self.n_samples)\n",
    "\n",
    "    def __getitem__(self, index):\n",
    "      prot_1 = os.path.join(self.processed_dir, self.protein_1[index]+\".pt\")\n",
    "      prot_2 = os.path.join(self.processed_dir, self.protein_2[index]+\".pt\")\n",
    "      # print(prot_1, prot_2)\n",
    "      # print(glob.glob(prot_1), glob.glob(prot_2))\n",
    "      #print(f'Second prot is {prot_2}')\n",
    "      prot_1 = torch.load(glob.glob(prot_1)[0])\n",
    "      #print(f'Here lies {glob.glob(prot_2)}')\n",
    "      prot_2 = torch.load(glob.glob(prot_2)[0])\n",
    "      prot_1 = bump(prot_1)\n",
    "      prot_2 = bump(prot_2)\n",
    "      prot_1.x = prot_1.x.to(torch.float32)\n",
    "      prot_2.x = prot_2.x.to(torch.float32)\n",
    "      return prot_1, prot_2, torch.tensor(self.label[index])\n",
    "\n",
    "\n",
    "\n",
    "dataset = LabelledDataset(npy_file = npy_file ,processed_dir= processed_dir)"
   ]
  },
  {
   "cell_type": "code",
   "execution_count": 3,
   "id": "cc16d48e-c071-43f4-8685-fbb1d62374d7",
   "metadata": {},
   "outputs": [],
   "source": [
    "testloader = DataLoader_n(dataset=dataset, batch_size=4, num_workers=0)"
   ]
  },
  {
   "cell_type": "code",
   "execution_count": 4,
   "id": "fe01962a-d8bb-46cf-82af-bf74a2f2ad2d",
   "metadata": {},
   "outputs": [
    {
     "name": "stdout",
     "output_type": "stream",
     "text": [
      "GCNN Loaded\n"
     ]
    },
    {
     "data": {
      "application/vnd.jupyter.widget-view+json": {
       "model_id": "e6ff589371404b9e82fc7f8a8046eb50",
       "version_major": 2,
       "version_minor": 0
      },
      "text/plain": [
       "  0%|          | 0/1420 [00:00<?, ?it/s]"
      ]
     },
     "metadata": {},
     "output_type": "display_data"
    }
   ],
   "source": [
    "import torch\n",
    "import numpy as np\n",
    "import pandas as pd\n",
    "import matplotlib.pyplot as plt\n",
    "from metrics import *\n",
    "from models import GCNN, AttGNN\n",
    "from tqdm.auto import tqdm\n",
    "\n",
    "\n",
    "device = torch.device(\"cuda:0\") if torch.cuda.is_available() else torch.cuda(\"cpu\")\n",
    "model = GCNN()\n",
    "model.load_state_dict(torch.load(\"../human_features/GCN.pth\")) #path to load the model\n",
    "model.to(device)\n",
    "model.eval()\n",
    "predictions = torch.Tensor()\n",
    "labels = torch.Tensor()\n",
    "with torch.no_grad():\n",
    "    for prot_1, prot_2, label in tqdm(testloader):\n",
    "      prot_1 = prot_1.to(device)\n",
    "      prot_2 = prot_2.to(device)\n",
    "      #print(\"H\")\n",
    "      #print(torch.Tensor.size(prot_1.x), torch.Tensor.size(prot_2.x))\n",
    "      output = model(prot_1, prot_2)\n",
    "      predictions = torch.cat((predictions, output.cpu()), 0)\n",
    "      labels = torch.cat((labels, label.view(-1,1).cpu()), 0)\n",
    "labels = labels.numpy().flatten()\n",
    "predictions = predictions.numpy().flatten()"
   ]
  },
  {
   "cell_type": "code",
   "execution_count": 6,
   "id": "8f8ed785-cc9a-4ea2-a508-34057c01e983",
   "metadata": {},
   "outputs": [
    {
     "name": "stdout",
     "output_type": "stream",
     "text": [
      "mse : 0.030343958702492117\n"
     ]
    }
   ],
   "source": [
    "mse = get_mse(labels, predictions)\n",
    "# acc = get_accuracy(labels, predictions, 0.5)\n",
    "# prec = precision(labels, predictions, 0.5)\n",
    "# sensitivity = sensitivity(labels, predictions,  0.5)\n",
    "# specificity = specificity(labels, predictions, 0.5)\n",
    "# f1 = f_score(labels, predictions, 0.5)\n",
    "# mcc = mcc(labels, predictions,  0.5)\n",
    "# auroc = auroc(labels, predictions)\n",
    "# auprc = auprc(labels, predictions)\n",
    "\n",
    "\n",
    "print(f'mse : {mse}')\n",
    "# print(f'Accuracy : {acc}')\n",
    "# print(f'precision: {prec}')\n",
    "# print(f'Sensititvity :{sensitivity}')\n",
    "# print(f'specificity : {specificity}')\n",
    "# print(f'f-score : {f1}')\n",
    "# print(f'MCC : {mcc}')\n",
    "# print(f'AUROC: {auroc}')\n",
    "# print(f'AUPRC: {auprc}')"
   ]
  },
  {
   "cell_type": "code",
   "execution_count": 7,
   "id": "e9e17770-c059-4d59-af3f-0d61805f0b20",
   "metadata": {},
   "outputs": [
    {
     "data": {
      "text/plain": [
       "0.03072402028112409"
      ]
     },
     "execution_count": 7,
     "metadata": {},
     "output_type": "execute_result"
    }
   ],
   "source": [
    "np.mean((np.mean(labels) - labels) ** 2)"
   ]
  },
  {
   "cell_type": "code",
   "execution_count": null,
   "id": "e96ee12e-84e3-4fc8-904f-4b3897f3fa09",
   "metadata": {},
   "outputs": [],
   "source": []
  },
  {
   "cell_type": "code",
   "execution_count": null,
   "id": "0b051064-d14d-4fec-9d93-8ab48be06ff0",
   "metadata": {},
   "outputs": [],
   "source": []
  }
 ],
 "metadata": {
  "kernelspec": {
   "display_name": "Python 3 (ipykernel)",
   "language": "python",
   "name": "python3"
  },
  "language_info": {
   "codemirror_mode": {
    "name": "ipython",
    "version": 3
   },
   "file_extension": ".py",
   "mimetype": "text/x-python",
   "name": "python",
   "nbconvert_exporter": "python",
   "pygments_lexer": "ipython3",
   "version": "3.10.12"
  }
 },
 "nbformat": 4,
 "nbformat_minor": 5
}
