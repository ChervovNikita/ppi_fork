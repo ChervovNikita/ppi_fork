{
 "cells": [
  {
   "cell_type": "code",
   "execution_count": 20,
   "id": "fe5d2fd8-caf1-47ec-b035-1ac82f373ec0",
   "metadata": {},
   "outputs": [],
   "source": [
    "import sys\n",
    "\n",
    "# Simulate the command-line arguments\n",
    "sys.argv = [\n",
    "    'notebook',  # argv[0] is the script name, can be anything\n",
    "    '--npy_file', '../masif_features/new_train.npy',\n",
    "    '--cv_fold', '5',\n",
    "    '--cv_fold_idx', '0'  # or 1, 2, 3, 4 for other folds\n",
    "]"
   ]
  },
  {
   "cell_type": "code",
   "execution_count": 21,
   "id": "a4665084-eac8-4b80-810f-a38edde0acd6",
   "metadata": {},
   "outputs": [],
   "source": [
    "import torch\n",
    "import numpy as np\n",
    "from metrics import *\n",
    "from data_prepare import testloader\n",
    "import torch.nn as nn\n",
    "import torch.nn.functional as F\n",
    "from torch_geometric.nn import GCNConv, GATConv, global_max_pool as gmp, global_add_pool as gap,global_mean_pool as gep,global_sort_pool\n",
    "from torch_geometric.utils import dropout_adj\n",
    "from torch.optim.lr_scheduler import MultiStepLR\n"
   ]
  },
  {
   "cell_type": "code",
   "execution_count": 22,
   "id": "2286c984-57a0-4082-a1c5-93d7888c81ee",
   "metadata": {},
   "outputs": [
    {
     "name": "stdout",
     "output_type": "stream",
     "text": [
      "cuda:0\n"
     ]
    }
   ],
   "source": [
    "device = torch.device(\"cuda:0\" if torch.cuda.is_available() else \"cpu\")\n",
    "print(device)"
   ]
  },
  {
   "cell_type": "code",
   "execution_count": 23,
   "id": "9dba7896-9a08-475d-8b0c-43607bcd8c32",
   "metadata": {},
   "outputs": [],
   "source": [
    "## TEST 28 APRIL ## \n",
    "\n",
    "import torch\n",
    "import torch.nn as nn\n",
    "import torch.nn.functional as F\n",
    "from torch_geometric.nn import GCNConv, GATConv, global_max_pool as gmp, global_add_pool as gap,global_mean_pool as gep,global_sort_pool\n",
    "from torch_geometric.utils import dropout_adj\n",
    "from torch.optim.lr_scheduler import MultiStepLR\n",
    "\n",
    "class GCNN_mutual_attention(nn.Module):\n",
    "    def __init__(self, n_output=1, num_features_pro=1024, output_dim=128, dropout=0.2, descriptor_dim=80, transformer_dim=32, nhead=4, num_layers=1, dim_feedforward=128): ## change number of layers \n",
    "        super(GCNN_mutual_attention, self).__init__()\n",
    "        print('GCNN Loaded')\n",
    "        self.n_output = n_output\n",
    "        self.pro1_conv1 = GCNConv(num_features_pro, num_features_pro)\n",
    "        self.pro1_fc1 = nn.Linear(num_features_pro, output_dim)\n",
    "        self.pro2_conv1 = GCNConv(num_features_pro, num_features_pro)\n",
    "        self.pro2_fc1 = nn.Linear(num_features_pro, output_dim)\n",
    "        \n",
    "        self.descriptor_dim = descriptor_dim\n",
    "        self.transformer_dim = transformer_dim\n",
    "        self.reducer = nn.Linear(self.descriptor_dim, self.transformer_dim - 2)\n",
    "\n",
    "        # Transformer parameters\n",
    "        \n",
    "        self.nhead = nhead\n",
    "        self.num_layers = num_layers\n",
    "\n",
    "        # Transformer encoders for masif descriptors\n",
    "        self.transformer = nn.TransformerEncoder(\n",
    "            nn.TransformerEncoderLayer(\n",
    "                d_model=self.transformer_dim,\n",
    "                nhead=self.nhead,\n",
    "                dim_feedforward=dim_feedforward,\n",
    "                dropout=dropout\n",
    "            ),\n",
    "            num_layers=self.num_layers\n",
    "        )\n",
    "\n",
    "        # Output processing\n",
    "        self.relu = nn.LeakyReLU()\n",
    "        self.dropout = nn.Dropout(dropout)\n",
    "        self.sigmoid = nn.Sigmoid()\n",
    "        \n",
    "        # Final layers\n",
    "        combined_dim = 2 * output_dim + self.transformer_dim\n",
    "        self.final_fc = nn.Linear(combined_dim, self.n_output)\n",
    "\n",
    "    def forward(self, pro1_data, pro2_data, mas1_straight, mas1_flipped, mas2_straight, mas2_flipped):\n",
    "        # Process protein 1 with GNN\n",
    "        pro1_x, pro1_edge_index, pro1_batch = pro1_data.x, pro1_data.edge_index, pro1_data.batch\n",
    "        x = self.pro1_conv1(pro1_x, pro1_edge_index)\n",
    "        x = self.relu(x)\n",
    "        x = gep(x, pro1_batch)\n",
    "        x = self.relu(self.pro1_fc1(x))\n",
    "        x = self.dropout(x)\n",
    "\n",
    "        # Process protein 2 with GNN\n",
    "        pro2_x, pro2_edge_index, pro2_batch = pro2_data.x, pro2_data.edge_index, pro2_data.batch\n",
    "        xt = self.pro2_conv1(pro2_x, pro2_edge_index)\n",
    "        xt = self.relu(xt)\n",
    "        xt = gep(xt, pro2_batch)\n",
    "        xt = self.relu(self.pro2_fc1(xt))\n",
    "        xt = self.dropout(xt)\n",
    "\n",
    "        # Process masif descriptors with transformers\n",
    "        # Add indicator (0/1) for straight/flipped\n",
    "        batch_size = mas1_straight.size(0)\n",
    "        \n",
    "        # Prepare indicators\n",
    "        straight_indicator_mas1 = torch.ones((*mas1_straight.shape[:-1], 1), device=mas1_straight.device)\n",
    "        flipped_indicator_mas1 = torch.zeros((*mas1_flipped.shape[:-1], 1), device=mas1_flipped.device)\n",
    "\n",
    "        straight_indicator_mas2 = torch.ones((*mas2_straight.shape[:-1], 1), device=mas2_straight.device)\n",
    "        flipped_indicator_mas2 = torch.zeros((*mas2_flipped.shape[:-1], 1), device=mas2_flipped.device)\n",
    "        \n",
    "        first_indicator = torch.ones((*mas1_straight.shape[:-1], 1), device=mas1_straight.device)\n",
    "        second_indicator = torch.zeros((*mas2_flipped.shape[:-1], 1), device=mas2_flipped.device)\n",
    "\n",
    "        mas1_straight = self.reducer(mas1_straight)\n",
    "        mas1_flipped = self.reducer(mas1_flipped)\n",
    "        mas2_straight = self.reducer(mas2_straight)\n",
    "        mas2_flipped = self.reducer(mas2_flipped)\n",
    "\n",
    "        # Concatenate descriptors with indicators\n",
    "        mas1_straight = torch.cat([mas1_straight, straight_indicator_mas1, first_indicator], dim=-1)\n",
    "        mas1_flipped = torch.cat([mas1_flipped, flipped_indicator_mas1, first_indicator], dim=-1)\n",
    "        mas2_straight = torch.cat([mas2_straight, straight_indicator_mas2, second_indicator], dim=-1)\n",
    "        mas2_flipped = torch.cat([mas2_flipped, flipped_indicator_mas2, second_indicator], dim=-1)\n",
    "        \n",
    "        # Process through transformers\n",
    "        # Combine straight and flipped for each protein\n",
    "        mas = torch.cat([mas1_straight, mas1_flipped, mas2_straight, mas2_flipped], dim=1)\n",
    "        \n",
    "        # Transform sequences (B, L, D) -> (L, B, D) for transformer\n",
    "        mas = mas.transpose(0, 1)\n",
    "\n",
    "        # Apply transformers\n",
    "        mas_out = self.transformer(mas)\n",
    "        \n",
    "        # Get mean of transformer outputs for global representation\n",
    "        mas_out = mas_out.mean(dim=0)\n",
    "\n",
    "        # Concatenate all features\n",
    "        combined = torch.cat([x, xt, mas_out], dim=1)\n",
    "        \n",
    "        # Final prediction (logits)\n",
    "        out = self.final_fc(combined)\n",
    "        return out\n"
   ]
  },
  {
   "cell_type": "code",
   "execution_count": 24,
   "id": "2589a071-8cc2-4985-9cca-6d0ddecb8898",
   "metadata": {},
   "outputs": [
    {
     "name": "stdout",
     "output_type": "stream",
     "text": [
      "GCNN Loaded\n"
     ]
    },
    {
     "name": "stderr",
     "output_type": "stream",
     "text": [
      "/usr/local/lib/python3.10/dist-packages/torch/nn/modules/transformer.py:282: UserWarning: enable_nested_tensor is True, but self.use_nested_tensor is False because encoder_layer.self_attn.batch_first was not True(use batch_first for better inference performance)\n",
      "  warnings.warn(f\"enable_nested_tensor is True, but self.use_nested_tensor is False because {why_not_sparsity_fast_path}\")\n"
     ]
    },
    {
     "data": {
      "text/plain": [
       "GCNN_mutual_attention(\n",
       "  (pro1_conv1): GCNConv(1024, 1024)\n",
       "  (pro1_fc1): Linear(in_features=1024, out_features=128, bias=True)\n",
       "  (pro2_conv1): GCNConv(1024, 1024)\n",
       "  (pro2_fc1): Linear(in_features=1024, out_features=128, bias=True)\n",
       "  (reducer): Linear(in_features=80, out_features=30, bias=True)\n",
       "  (transformer): TransformerEncoder(\n",
       "    (layers): ModuleList(\n",
       "      (0): TransformerEncoderLayer(\n",
       "        (self_attn): MultiheadAttention(\n",
       "          (out_proj): NonDynamicallyQuantizableLinear(in_features=32, out_features=32, bias=True)\n",
       "        )\n",
       "        (linear1): Linear(in_features=32, out_features=128, bias=True)\n",
       "        (dropout): Dropout(p=0.2, inplace=False)\n",
       "        (linear2): Linear(in_features=128, out_features=32, bias=True)\n",
       "        (norm1): LayerNorm((32,), eps=1e-05, elementwise_affine=True)\n",
       "        (norm2): LayerNorm((32,), eps=1e-05, elementwise_affine=True)\n",
       "        (dropout1): Dropout(p=0.2, inplace=False)\n",
       "        (dropout2): Dropout(p=0.2, inplace=False)\n",
       "      )\n",
       "    )\n",
       "  )\n",
       "  (relu): LeakyReLU(negative_slope=0.01)\n",
       "  (dropout): Dropout(p=0.2, inplace=False)\n",
       "  (sigmoid): Sigmoid()\n",
       "  (final_fc): Linear(in_features=288, out_features=1, bias=True)\n",
       ")"
      ]
     },
     "execution_count": 24,
     "metadata": {},
     "output_type": "execute_result"
    }
   ],
   "source": [
    "model = GCNN_mutual_attention()\n",
    "model.load_state_dict(torch.load(\"/workspace/masif_features/GCN_simple_run_5.pth\"))\n",
    "model.to(device)\n",
    "model.eval()"
   ]
  },
  {
   "cell_type": "code",
   "execution_count": 34,
   "id": "debb6d41-c80e-4063-8e4a-fd1262dd6a70",
   "metadata": {},
   "outputs": [],
   "source": [
    "predictions = torch.Tensor().to(device)\n",
    "labels = torch.Tensor().to(device)"
   ]
  },
  {
   "cell_type": "code",
   "execution_count": 27,
   "id": "fe7e5b2e-ea09-49ee-aea7-7b93f95b8030",
   "metadata": {},
   "outputs": [
    {
     "name": "stdout",
     "output_type": "stream",
     "text": [
      "\n",
      "===== Evaluating Fold 0 =====\n"
     ]
    },
    {
     "data": {
      "application/vnd.jupyter.widget-view+json": {
       "model_id": "7c517ad1056948a0b6f8eac6e94c72f7",
       "version_major": 2,
       "version_minor": 0
      },
      "text/plain": [
       "  0%|          | 0/327 [00:00<?, ?it/s]"
      ]
     },
     "metadata": {},
     "output_type": "display_data"
    },
    {
     "name": "stdout",
     "output_type": "stream",
     "text": [
      "Fold 0 — Accuracy: 0.8845, AUC: 0.9377\n",
      "\n",
      "===== Evaluating Fold 1 =====\n"
     ]
    },
    {
     "data": {
      "application/vnd.jupyter.widget-view+json": {
       "model_id": "5f909f6c01714a849e0013e909f77720",
       "version_major": 2,
       "version_minor": 0
      },
      "text/plain": [
       "  0%|          | 0/327 [00:00<?, ?it/s]"
      ]
     },
     "metadata": {},
     "output_type": "display_data"
    },
    {
     "name": "stdout",
     "output_type": "stream",
     "text": [
      "Fold 1 — Accuracy: 0.8944, AUC: 0.9772\n",
      "\n",
      "===== Evaluating Fold 2 =====\n"
     ]
    },
    {
     "data": {
      "application/vnd.jupyter.widget-view+json": {
       "model_id": "02698ff662254d2eaec751fce2f44913",
       "version_major": 2,
       "version_minor": 0
      },
      "text/plain": [
       "  0%|          | 0/327 [00:00<?, ?it/s]"
      ]
     },
     "metadata": {},
     "output_type": "display_data"
    },
    {
     "name": "stdout",
     "output_type": "stream",
     "text": [
      "Fold 2 — Accuracy: 0.8989, AUC: 0.9845\n",
      "\n",
      "===== Evaluating Fold 3 =====\n"
     ]
    },
    {
     "data": {
      "application/vnd.jupyter.widget-view+json": {
       "model_id": "d30d8b2258f24f26b1428ab7026f268f",
       "version_major": 2,
       "version_minor": 0
      },
      "text/plain": [
       "  0%|          | 0/327 [00:00<?, ?it/s]"
      ]
     },
     "metadata": {},
     "output_type": "display_data"
    },
    {
     "name": "stdout",
     "output_type": "stream",
     "text": [
      "Fold 3 — Accuracy: 0.9028, AUC: 0.9808\n",
      "\n",
      "===== Evaluating Fold 4 =====\n"
     ]
    },
    {
     "data": {
      "application/vnd.jupyter.widget-view+json": {
       "model_id": "93e8834bcdb848879fb1d67998706a1a",
       "version_major": 2,
       "version_minor": 0
      },
      "text/plain": [
       "  0%|          | 0/327 [00:00<?, ?it/s]"
      ]
     },
     "metadata": {},
     "output_type": "display_data"
    },
    {
     "name": "stdout",
     "output_type": "stream",
     "text": [
      "Fold 4 — Accuracy: 0.8982, AUC: 0.9816\n",
      "\n",
      "===== Cross-Validation Summary =====\n",
      "Mean Accuracy: 0.8957 ± 0.0062\n",
      "Mean AUC: 0.9724 ± 0.0175\n"
     ]
    }
   ],
   "source": [
    "import sys\n",
    "import importlib\n",
    "import torch\n",
    "import numpy as np\n",
    "from sklearn.metrics import accuracy_score, roc_auc_score\n",
    "from tqdm.auto import tqdm\n",
    "\n",
    "fold_accuracies = []\n",
    "fold_aucs = []\n",
    "\n",
    "for fold_idx in range(5):\n",
    "    print(f\"\\n===== Evaluating Fold {fold_idx} =====\")\n",
    "\n",
    "    # Simulate command-line arguments for data_prepare.py\n",
    "    sys.argv = [\n",
    "        'notebook',\n",
    "        '--npy_file', '../masif_features/new_train.npy',\n",
    "        '--cv_fold', '5',\n",
    "        '--cv_fold_idx', str(fold_idx)\n",
    "    ]\n",
    "\n",
    "    # Reload data_prepare.py to apply fold arguments\n",
    "    import data_prepare\n",
    "    importlib.reload(data_prepare)\n",
    "\n",
    "    # Access testloader from data_prepare\n",
    "    testloader = data_prepare.testloader  # make sure this exists\n",
    "\n",
    "    # Load the model for the fold\n",
    "    model_path = f\"/workspace/masif_features/GCN_simple_run_5.pth\"\n",
    "    model.load_state_dict(torch.load(model_path))\n",
    "    model.to(device)\n",
    "    model.eval()\n",
    "\n",
    "    # Store predictions and labels\n",
    "    predictions = torch.Tensor().to(device)\n",
    "    labels = torch.Tensor().to(device)\n",
    "\n",
    "    # Run evaluation\n",
    "    with torch.no_grad():\n",
    "        for prot_1, prot_2, label, mas1_straight, mas1_flipped, mas2_straight, mas2_flipped in tqdm(testloader):\n",
    "            prot_1 = prot_1.to(device)\n",
    "            prot_2 = prot_2.to(device)\n",
    "            mas1_straight = mas1_straight.to(device)\n",
    "            mas1_flipped = mas1_flipped.to(device)\n",
    "            mas2_straight = mas2_straight.to(device)\n",
    "            mas2_flipped = mas2_flipped.to(device)\n",
    "            label = label.to(device)\n",
    "\n",
    "            output = model(prot_1, prot_2, mas1_straight, mas1_flipped, mas2_straight, mas2_flipped)\n",
    "            predictions = torch.cat((predictions, output), dim=0)\n",
    "            labels = torch.cat((labels, label.view(-1, 1)), dim=0)\n",
    "\n",
    "    # Convert to numpy\n",
    "    y_true = labels.cpu().numpy().flatten()\n",
    "    y_pred = predictions.cpu().numpy().flatten()\n",
    "    y_pred_bin = (y_pred > 0.5).astype(int)\n",
    "\n",
    "    # Compute metrics\n",
    "    acc = accuracy_score(y_true, y_pred_bin)\n",
    "    auc = roc_auc_score(y_true, y_pred)\n",
    "\n",
    "    print(f\"Fold {fold_idx} — Accuracy: {acc:.4f}, AUC: {auc:.4f}\")\n",
    "    fold_accuracies.append(acc)\n",
    "    fold_aucs.append(auc)\n",
    "\n",
    "# Final CV summary\n",
    "print(\"\\n===== Cross-Validation Summary =====\")\n",
    "print(f\"Mean Accuracy: {np.mean(fold_accuracies):.4f} ± {np.std(fold_accuracies):.4f}\")\n",
    "print(f\"Mean AUC: {np.mean(fold_aucs):.4f} ± {np.std(fold_aucs):.4f}\")\n"
   ]
  },
  {
   "cell_type": "code",
   "execution_count": 36,
   "id": "041b1e28-baa1-42cf-9320-3fdea849cf79",
   "metadata": {},
   "outputs": [
    {
     "name": "stdout",
     "output_type": "stream",
     "text": [
      "\n",
      "=== Evaluating Fold 0 ===\n"
     ]
    },
    {
     "data": {
      "application/vnd.jupyter.widget-view+json": {
       "model_id": "32010948f0c4479e9650fdb78f52d2c8",
       "version_major": 2,
       "version_minor": 0
      },
      "text/plain": [
       "  0%|          | 0/327 [00:00<?, ?it/s]"
      ]
     },
     "metadata": {},
     "output_type": "display_data"
    },
    {
     "name": "stdout",
     "output_type": "stream",
     "text": [
      "Loss        : 12.8722\n",
      "Accuracy    : 88.4468\n",
      "Precision   : 0.9719\n",
      "Sensitivity : 0.7924\n",
      "Specificity : 0.9770\n",
      "F1 Score    : 0.8730\n",
      "MCC         : 0.7826\n",
      "AUROC       : 0.9377\n",
      "AUPRC       : 0.9557\n",
      "\n",
      "=== Evaluating Fold 1 ===\n"
     ]
    },
    {
     "data": {
      "application/vnd.jupyter.widget-view+json": {
       "model_id": "1f02a6a773954e24abb10b13d837dafc",
       "version_major": 2,
       "version_minor": 0
      },
      "text/plain": [
       "  0%|          | 0/327 [00:00<?, ?it/s]"
      ]
     },
     "metadata": {},
     "output_type": "display_data"
    },
    {
     "name": "stdout",
     "output_type": "stream",
     "text": [
      "Loss        : 14.3883\n",
      "Accuracy    : 89.4415\n",
      "Precision   : 0.9827\n",
      "Sensitivity : 0.7988\n",
      "Specificity : 0.9865\n",
      "F1 Score    : 0.8812\n",
      "MCC         : 0.8017\n",
      "AUROC       : 0.9772\n",
      "AUPRC       : 0.9799\n",
      "\n",
      "=== Evaluating Fold 2 ===\n"
     ]
    },
    {
     "data": {
      "application/vnd.jupyter.widget-view+json": {
       "model_id": "64e96791e14c43d6980e503114dfa0a5",
       "version_major": 2,
       "version_minor": 0
      },
      "text/plain": [
       "  0%|          | 0/327 [00:00<?, ?it/s]"
      ]
     },
     "metadata": {},
     "output_type": "display_data"
    },
    {
     "name": "stdout",
     "output_type": "stream",
     "text": [
      "Loss        : 14.0090\n",
      "Accuracy    : 89.8928\n",
      "Precision   : 0.9848\n",
      "Sensitivity : 0.8072\n",
      "Specificity : 0.9879\n",
      "F1 Score    : 0.8872\n",
      "MCC         : 0.8102\n",
      "AUROC       : 0.9845\n",
      "AUPRC       : 0.9860\n",
      "\n",
      "=== Evaluating Fold 3 ===\n"
     ]
    },
    {
     "data": {
      "application/vnd.jupyter.widget-view+json": {
       "model_id": "5f2796c0328045c1a30ef021d3c57bcc",
       "version_major": 2,
       "version_minor": 0
      },
      "text/plain": [
       "  0%|          | 0/327 [00:00<?, ?it/s]"
      ]
     },
     "metadata": {},
     "output_type": "display_data"
    },
    {
     "name": "stdout",
     "output_type": "stream",
     "text": [
      "Loss        : 13.8478\n",
      "Accuracy    : 90.2757\n",
      "Precision   : 0.9875\n",
      "Sensitivity : 0.8220\n",
      "Specificity : 0.9889\n",
      "F1 Score    : 0.8972\n",
      "MCC         : 0.8186\n",
      "AUROC       : 0.9808\n",
      "AUPRC       : 0.9844\n",
      "\n",
      "=== Evaluating Fold 4 ===\n"
     ]
    },
    {
     "data": {
      "application/vnd.jupyter.widget-view+json": {
       "model_id": "0e444275b24c4a2bac0eb8d613e885d2",
       "version_major": 2,
       "version_minor": 0
      },
      "text/plain": [
       "  0%|          | 0/327 [00:00<?, ?it/s]"
      ]
     },
     "metadata": {},
     "output_type": "display_data"
    },
    {
     "name": "stdout",
     "output_type": "stream",
     "text": [
      "Loss        : 14.2386\n",
      "Accuracy    : 89.8162\n",
      "Precision   : 0.9890\n",
      "Sensitivity : 0.8093\n",
      "Specificity : 0.9906\n",
      "F1 Score    : 0.8902\n",
      "MCC         : 0.8109\n",
      "AUROC       : 0.9816\n",
      "AUPRC       : 0.9850\n",
      "\n",
      "=== Average Metrics Across All Folds ===\n",
      "Loss        : Mean = 13.8712 | Std = 0.5329\n",
      "Accuracy    : Mean = 89.5746 | Std = 0.6230\n",
      "Precision   : Mean = 0.9832 | Std = 0.0060\n",
      "Sensitivity : Mean = 0.8059 | Std = 0.0101\n",
      "Specificity : Mean = 0.9862 | Std = 0.0048\n",
      "F1          : Mean = 0.8858 | Std = 0.0082\n",
      "Mcc         : Mean = 0.8048 | Std = 0.0123\n",
      "Auroc       : Mean = 0.9724 | Std = 0.0175\n",
      "Auprc       : Mean = 0.9782 | Std = 0.0114\n"
     ]
    }
   ],
   "source": [
    "import sys\n",
    "import importlib\n",
    "import torch\n",
    "import numpy as np\n",
    "from sklearn.metrics import accuracy_score, roc_auc_score\n",
    "from metrics import get_mse, get_accuracy, precision, sensitivity, specificity, f_score, mcc, auroc, auprc  \n",
    "from tqdm.auto import tqdm\n",
    "\n",
    "all_metrics = {\n",
    "    'loss': [],\n",
    "    'accuracy': [],\n",
    "    'precision': [],\n",
    "    'sensitivity': [],\n",
    "    'specificity': [],\n",
    "    'f1': [],\n",
    "    'mcc': [],\n",
    "    'auroc': [],\n",
    "    'auprc': []\n",
    "}\n",
    "\n",
    "\n",
    "for fold_idx in range(5):\n",
    "    print(f\"\\n=== Evaluating Fold {fold_idx} ===\")\n",
    "\n",
    "    # Simulate command-line args for data_prepare\n",
    "    sys.argv = [\n",
    "        'notebook',\n",
    "        '--npy_file', '../masif_features/new_train.npy',\n",
    "        '--cv_fold', '5',\n",
    "        '--cv_fold_idx', str(fold_idx)\n",
    "    ]\n",
    "    \n",
    "    import data_prepare\n",
    "    importlib.reload(data_prepare)\n",
    "\n",
    "    # Access testloader from data_prepare\n",
    "    testloader = data_prepare.testloader  # make sure this exists\n",
    "\n",
    "    # Load the model for the fold\n",
    "    model_path = f\"/workspace/masif_features/GCN_simple_run_5.pth\"\n",
    "    model.load_state_dict(torch.load(model_path, map_location=device))\n",
    "    model.to(device)\n",
    "    model.eval()\n",
    "\n",
    "    # Store predictions and labels\n",
    "    predictions = torch.Tensor().to(device)\n",
    "    labels = torch.Tensor().to(device)\n",
    "\n",
    "    # Evaluation loop\n",
    "    with torch.no_grad():\n",
    "        for prot_1, prot_2, label, mas1_straight, mas1_flipped, mas2_straight, mas2_flipped in tqdm(testloader):\n",
    "            prot_1 = prot_1.to(device)\n",
    "            prot_2 = prot_2.to(device)\n",
    "            mas1_straight = mas1_straight.to(device)\n",
    "            mas1_flipped = mas1_flipped.to(device)\n",
    "            mas2_straight = mas2_straight.to(device)\n",
    "            mas2_flipped = mas2_flipped.to(device)\n",
    "            label = label.to(device)\n",
    "\n",
    "            # Forward pass\n",
    "            output = model(prot_1, prot_2, mas1_straight, mas1_flipped, mas2_straight, mas2_flipped)\n",
    "            predictions = torch.cat((predictions, output), dim=0)\n",
    "            labels = torch.cat((labels, label.view(-1, 1)), dim=0)\n",
    "\n",
    "    # Convert to numpy\n",
    "    labels_np = labels.cpu().numpy().flatten()\n",
    "    preds_np = predictions.cpu().numpy().flatten()\n",
    "\n",
    "    # Threshold for classification\n",
    "    threshold = 0.5\n",
    "\n",
    "    # Compute metrics\n",
    "    loss = get_mse(labels_np, preds_np)\n",
    "    acc = get_accuracy(labels_np, preds_np, threshold)\n",
    "    prec = precision(labels_np, preds_np, threshold)\n",
    "    sens = sensitivity(labels_np, preds_np, threshold)\n",
    "    spec = specificity(labels_np, preds_np, threshold)\n",
    "    f1 = f_score(labels_np, preds_np, threshold)\n",
    "    mcc_val = mcc(labels_np, preds_np, threshold)\n",
    "    auc = auroc(labels_np, preds_np)\n",
    "    aupr = auprc(labels_np, preds_np)\n",
    "\n",
    "    # Print per-fold results\n",
    "    print(f\"Loss        : {loss:.4f}\")\n",
    "    print(f\"Accuracy    : {acc:.4f}\")\n",
    "    print(f\"Precision   : {prec:.4f}\")\n",
    "    print(f\"Sensitivity : {sens:.4f}\")\n",
    "    print(f\"Specificity : {spec:.4f}\")\n",
    "    print(f\"F1 Score    : {f1:.4f}\")\n",
    "    print(f\"MCC         : {mcc_val:.4f}\")\n",
    "    print(f\"AUROC       : {auc:.4f}\")\n",
    "    print(f\"AUPRC       : {aupr:.4f}\")\n",
    "\n",
    "    # Accumulate\n",
    "    all_metrics['loss'].append(loss)\n",
    "    all_metrics['accuracy'].append(acc)\n",
    "    all_metrics['precision'].append(prec)\n",
    "    all_metrics['sensitivity'].append(sens)\n",
    "    all_metrics['specificity'].append(spec)\n",
    "    all_metrics['f1'].append(f1)\n",
    "    all_metrics['mcc'].append(mcc_val)\n",
    "    all_metrics['auroc'].append(auc)\n",
    "    all_metrics['auprc'].append(aupr)\n",
    "\n",
    "# --- Print average and std of metrics ---\n",
    "print(\"\\n=== Average Metrics Across All Folds ===\")\n",
    "for name, values in all_metrics.items():\n",
    "    values = np.array(values)\n",
    "    print(f\"{name.capitalize():<12}: Mean = {values.mean():.4f} | Std = {values.std():.4f}\")\n"
   ]
  },
  {
   "cell_type": "code",
   "execution_count": null,
   "id": "c86e4c32-b4e5-431b-8456-39cb7a65866d",
   "metadata": {},
   "outputs": [],
   "source": []
  },
  {
   "cell_type": "code",
   "execution_count": null,
   "id": "bbdf7eac-197d-4329-bc8e-72cf9d7cebd8",
   "metadata": {},
   "outputs": [],
   "source": []
  },
  {
   "cell_type": "code",
   "execution_count": null,
   "id": "7c857fbc-75ee-4be7-9bc2-03da656bc18f",
   "metadata": {},
   "outputs": [],
   "source": []
  },
  {
   "cell_type": "code",
   "execution_count": null,
   "id": "556a459a-c426-49d9-bddf-a8a5ac5375b9",
   "metadata": {},
   "outputs": [],
   "source": []
  },
  {
   "cell_type": "code",
   "execution_count": null,
   "id": "3864ffbe-3507-4d6d-bf25-7550fd1e6211",
   "metadata": {},
   "outputs": [],
   "source": []
  },
  {
   "cell_type": "code",
   "execution_count": null,
   "id": "29859a16-841e-4e12-a251-ddcbd779aec4",
   "metadata": {},
   "outputs": [],
   "source": []
  },
  {
   "cell_type": "code",
   "execution_count": null,
   "id": "9608fedb-8c34-4ddb-a32b-5a01a8145368",
   "metadata": {},
   "outputs": [],
   "source": []
  },
  {
   "cell_type": "code",
   "execution_count": null,
   "id": "99844ff8-8628-4c07-8675-ea58ce2a158a",
   "metadata": {},
   "outputs": [],
   "source": []
  },
  {
   "cell_type": "code",
   "execution_count": null,
   "id": "fb753d55-33b3-45ad-994d-8a6890e5c4ae",
   "metadata": {},
   "outputs": [],
   "source": [
    "### test seminar "
   ]
  },
  {
   "cell_type": "code",
   "execution_count": 54,
   "id": "3eb47781",
   "metadata": {},
   "outputs": [],
   "source": [
    "import torch.nn as nn\n",
    "import torch.nn.functional as F\n",
    "from torch_geometric.nn import GCNConv\n",
    "\n",
    "class GCNN(nn.Module):\n",
    "    def __init__(self, n_output=1, num_features_pro=1024, output_dim=128, dropout=0.2):\n",
    "        super(GCNN, self).__init__()\n",
    "        print('GCNN Loaded')\n",
    "        self.n_output = n_output\n",
    "        self.pro1_conv1 = GCNConv(num_features_pro, num_features_pro)\n",
    "        self.pro1_fc1 = nn.Linear(num_features_pro, output_dim)\n",
    "        self.pro2_conv1 = GCNConv(num_features_pro, num_features_pro)\n",
    "        self.pro2_fc1 = nn.Linear(num_features_pro, output_dim)\n",
    "        \n",
    "        self.descriptor_dim = 80\n",
    "        self.transformer_dim = 32 - 1\n",
    "        self.reducer = nn.Linear(self.descriptor_dim, self.transformer_dim)\n",
    "\n",
    "        # Transformer parameters\n",
    "        \n",
    "        self.nhead = 4\n",
    "        self.num_layers = 2\n",
    "\n",
    "        # Transformer encoders for masif descriptors\n",
    "        self.transformer = nn.TransformerEncoder(\n",
    "            nn.TransformerEncoderLayer(\n",
    "                d_model=self.transformer_dim + 1,  # +1 for the indicator\n",
    "                nhead=self.nhead,\n",
    "                dim_feedforward=128,\n",
    "                dropout=dropout\n",
    "            ),\n",
    "            num_layers=self.num_layers\n",
    "        )\n",
    "        \n",
    "        # Output processing\n",
    "        self.relu = nn.LeakyReLU()\n",
    "        self.dropout = nn.Dropout(dropout)\n",
    "        self.sigmoid = nn.Sigmoid()\n",
    "        \n",
    "        # Final layers\n",
    "        combined_dim = 2 * output_dim + 2 * (self.transformer_dim + 1)\n",
    "        self.final_fc = nn.Linear(combined_dim, self.n_output)\n",
    "\n",
    "    def forward(self, pro1_data, pro2_data, mas1_straight, mas1_flipped, mas2_straight, mas2_flipped):\n",
    "        # Process protein 1 with GNN\n",
    "        pro1_x, pro1_edge_index, pro1_batch = pro1_data.x, pro1_data.edge_index, pro1_data.batch\n",
    "        x = self.pro1_conv1(pro1_x, pro1_edge_index)\n",
    "        x = self.relu(x)\n",
    "        x = gep(x, pro1_batch)\n",
    "        x = self.relu(self.pro1_fc1(x))\n",
    "        x = self.dropout(x)\n",
    "\n",
    "        # Process protein 2 with GNN\n",
    "        pro2_x, pro2_edge_index, pro2_batch = pro2_data.x, pro2_data.edge_index, pro2_data.batch\n",
    "        xt = self.pro2_conv1(pro2_x, pro2_edge_index)\n",
    "        xt = self.relu(xt)\n",
    "        xt = gep(xt, pro2_batch)\n",
    "        xt = self.relu(self.pro2_fc1(xt))\n",
    "        xt = self.dropout(xt)\n",
    "\n",
    "        # Process masif descriptors with transformers\n",
    "        # Add indicator (0/1) for straight/flipped\n",
    "        batch_size = mas1_straight.size(0)\n",
    "        \n",
    "        # Prepare indicators\n",
    "        straight_indicator = torch.ones((*mas1_straight.shape[:-1], 1), device=mas1_straight.device)\n",
    "        flipped_indicator = torch.zeros((*mas1_flipped.shape[:-1], 1), device=mas1_flipped.device)\n",
    "        \n",
    "        mas1_straight = self.reducer(mas1_straight)\n",
    "        mas1_flipped = self.reducer(mas1_flipped)\n",
    "        mas2_straight = self.reducer(mas2_straight)\n",
    "        mas2_flipped = self.reducer(mas2_flipped)\n",
    "\n",
    "        # Concatenate descriptors with indicators\n",
    "        mas1_straight = torch.cat([mas1_straight, straight_indicator], dim=-1)\n",
    "        mas1_flipped = torch.cat([mas1_flipped, flipped_indicator], dim=-1)\n",
    "        mas2_straight = torch.cat([mas2_straight, straight_indicator], dim=-1)\n",
    "        mas2_flipped = torch.cat([mas2_flipped, flipped_indicator], dim=-1)\n",
    "        \n",
    "        # Process through transformers\n",
    "        # Combine straight and flipped for each protein\n",
    "        mas1 = torch.cat([mas1_straight, mas1_flipped], dim=1)\n",
    "        mas2 = torch.cat([mas2_straight, mas2_flipped], dim=1)\n",
    "        \n",
    "        # Transform sequences (B, L, D) -> (L, B, D) for transformer\n",
    "        mas1 = mas1.transpose(0, 1)\n",
    "        mas2 = mas2.transpose(0, 1)\n",
    "\n",
    "        # Apply transformers\n",
    "        mas1_out = self.transformer(mas1)\n",
    "        mas2_out = self.transformer(mas2)\n",
    "        \n",
    "        # Get mean of transformer outputs for global representation\n",
    "        mas1_out = mas1_out.mean(dim=0)\n",
    "        mas2_out = mas2_out.mean(dim=0)\n",
    "\n",
    "        # Concatenate all features\n",
    "        combined = torch.cat([x, xt, mas1_out, mas2_out], dim=1)\n",
    "        \n",
    "        # Final prediction (logits)\n",
    "        out = self.final_fc(combined)\n",
    "        return out"
   ]
  },
  {
   "cell_type": "code",
   "execution_count": 55,
   "id": "a041a52e-cac3-470a-b58a-67d75109d2e5",
   "metadata": {},
   "outputs": [
    {
     "name": "stdout",
     "output_type": "stream",
     "text": [
      "GCNN Loaded\n"
     ]
    },
    {
     "name": "stderr",
     "output_type": "stream",
     "text": [
      "/usr/local/lib/python3.10/dist-packages/torch/nn/modules/transformer.py:282: UserWarning: enable_nested_tensor is True, but self.use_nested_tensor is False because encoder_layer.self_attn.batch_first was not True(use batch_first for better inference performance)\n",
      "  warnings.warn(f\"enable_nested_tensor is True, but self.use_nested_tensor is False because {why_not_sparsity_fast_path}\")\n"
     ]
    },
    {
     "data": {
      "text/plain": [
       "GCNN(\n",
       "  (pro1_conv1): GCNConv(1024, 1024)\n",
       "  (pro1_fc1): Linear(in_features=1024, out_features=128, bias=True)\n",
       "  (pro2_conv1): GCNConv(1024, 1024)\n",
       "  (pro2_fc1): Linear(in_features=1024, out_features=128, bias=True)\n",
       "  (reducer): Linear(in_features=80, out_features=31, bias=True)\n",
       "  (transformer): TransformerEncoder(\n",
       "    (layers): ModuleList(\n",
       "      (0-1): 2 x TransformerEncoderLayer(\n",
       "        (self_attn): MultiheadAttention(\n",
       "          (out_proj): NonDynamicallyQuantizableLinear(in_features=32, out_features=32, bias=True)\n",
       "        )\n",
       "        (linear1): Linear(in_features=32, out_features=128, bias=True)\n",
       "        (dropout): Dropout(p=0.2, inplace=False)\n",
       "        (linear2): Linear(in_features=128, out_features=32, bias=True)\n",
       "        (norm1): LayerNorm((32,), eps=1e-05, elementwise_affine=True)\n",
       "        (norm2): LayerNorm((32,), eps=1e-05, elementwise_affine=True)\n",
       "        (dropout1): Dropout(p=0.2, inplace=False)\n",
       "        (dropout2): Dropout(p=0.2, inplace=False)\n",
       "      )\n",
       "    )\n",
       "  )\n",
       "  (relu): LeakyReLU(negative_slope=0.01)\n",
       "  (dropout): Dropout(p=0.2, inplace=False)\n",
       "  (sigmoid): Sigmoid()\n",
       "  (final_fc): Linear(in_features=320, out_features=1, bias=True)\n",
       ")"
      ]
     },
     "execution_count": 55,
     "metadata": {},
     "output_type": "execute_result"
    }
   ],
   "source": [
    "model = GCNN()\n",
    "model.load_state_dict(torch.load(\"/workspace/masif_features/GCN_old.pth\"))\n",
    "model.to(device)\n",
    "model.eval()"
   ]
  },
  {
   "cell_type": "code",
   "execution_count": 56,
   "id": "ed280d62",
   "metadata": {},
   "outputs": [],
   "source": [
    "predictions = torch.Tensor().to(device)\n",
    "labels = torch.Tensor().to(device)"
   ]
  },
  {
   "cell_type": "code",
   "execution_count": 12,
   "id": "ddb91ff2-31e8-4d8f-a067-72ca2ceda2df",
   "metadata": {},
   "outputs": [
    {
     "data": {
      "application/vnd.jupyter.widget-view+json": {
       "model_id": "ef8203d1d1fb40c484534a2806e2eaec",
       "version_major": 2,
       "version_minor": 0
      },
      "text/plain": [
       "  0%|          | 0/327 [00:00<?, ?it/s]"
      ]
     },
     "metadata": {},
     "output_type": "display_data"
    },
    {
     "ename": "KeyboardInterrupt",
     "evalue": "",
     "output_type": "error",
     "traceback": [
      "\u001b[0;31m---------------------------------------------------------------------------\u001b[0m",
      "\u001b[0;31mKeyboardInterrupt\u001b[0m                         Traceback (most recent call last)",
      "Cell \u001b[0;32mIn[12], line 4\u001b[0m\n\u001b[1;32m      1\u001b[0m \u001b[38;5;28;01mfrom\u001b[39;00m \u001b[38;5;21;01mtqdm\u001b[39;00m\u001b[38;5;21;01m.\u001b[39;00m\u001b[38;5;21;01mauto\u001b[39;00m \u001b[38;5;28;01mimport\u001b[39;00m tqdm\n\u001b[1;32m      3\u001b[0m \u001b[38;5;28;01mwith\u001b[39;00m torch\u001b[38;5;241m.\u001b[39mno_grad():\n\u001b[0;32m----> 4\u001b[0m     \u001b[38;5;28;01mfor\u001b[39;00m prot_1, prot_2, label, mas1_straight, mas1_flipped, mas2_straight, mas2_flipped \u001b[38;5;129;01min\u001b[39;00m tqdm(testloader):\n\u001b[1;32m      5\u001b[0m         prot_1 \u001b[38;5;241m=\u001b[39m prot_1\u001b[38;5;241m.\u001b[39mto(device)\n\u001b[1;32m      6\u001b[0m         prot_2 \u001b[38;5;241m=\u001b[39m prot_2\u001b[38;5;241m.\u001b[39mto(device)\n",
      "File \u001b[0;32m/usr/local/lib/python3.10/dist-packages/tqdm/notebook.py:250\u001b[0m, in \u001b[0;36mtqdm_notebook.__iter__\u001b[0;34m(self)\u001b[0m\n\u001b[1;32m    248\u001b[0m \u001b[38;5;28;01mtry\u001b[39;00m:\n\u001b[1;32m    249\u001b[0m     it \u001b[38;5;241m=\u001b[39m \u001b[38;5;28msuper\u001b[39m()\u001b[38;5;241m.\u001b[39m\u001b[38;5;21m__iter__\u001b[39m()\n\u001b[0;32m--> 250\u001b[0m     \u001b[38;5;28;01mfor\u001b[39;00m obj \u001b[38;5;129;01min\u001b[39;00m it:\n\u001b[1;32m    251\u001b[0m         \u001b[38;5;66;03m# return super(tqdm...) will not catch exception\u001b[39;00m\n\u001b[1;32m    252\u001b[0m         \u001b[38;5;28;01myield\u001b[39;00m obj\n\u001b[1;32m    253\u001b[0m \u001b[38;5;66;03m# NB: except ... [ as ...] breaks IPython async KeyboardInterrupt\u001b[39;00m\n",
      "File \u001b[0;32m/usr/local/lib/python3.10/dist-packages/tqdm/std.py:1181\u001b[0m, in \u001b[0;36mtqdm.__iter__\u001b[0;34m(self)\u001b[0m\n\u001b[1;32m   1178\u001b[0m time \u001b[38;5;241m=\u001b[39m \u001b[38;5;28mself\u001b[39m\u001b[38;5;241m.\u001b[39m_time\n\u001b[1;32m   1180\u001b[0m \u001b[38;5;28;01mtry\u001b[39;00m:\n\u001b[0;32m-> 1181\u001b[0m     \u001b[38;5;28;01mfor\u001b[39;00m obj \u001b[38;5;129;01min\u001b[39;00m iterable:\n\u001b[1;32m   1182\u001b[0m         \u001b[38;5;28;01myield\u001b[39;00m obj\n\u001b[1;32m   1183\u001b[0m         \u001b[38;5;66;03m# Update and possibly print the progressbar.\u001b[39;00m\n\u001b[1;32m   1184\u001b[0m         \u001b[38;5;66;03m# Note: does not call self.update(1) for speed optimisation.\u001b[39;00m\n",
      "File \u001b[0;32m/usr/local/lib/python3.10/dist-packages/torch/utils/data/dataloader.py:630\u001b[0m, in \u001b[0;36m_BaseDataLoaderIter.__next__\u001b[0;34m(self)\u001b[0m\n\u001b[1;32m    627\u001b[0m \u001b[38;5;28;01mif\u001b[39;00m \u001b[38;5;28mself\u001b[39m\u001b[38;5;241m.\u001b[39m_sampler_iter \u001b[38;5;129;01mis\u001b[39;00m \u001b[38;5;28;01mNone\u001b[39;00m:\n\u001b[1;32m    628\u001b[0m     \u001b[38;5;66;03m# TODO(https://github.com/pytorch/pytorch/issues/76750)\u001b[39;00m\n\u001b[1;32m    629\u001b[0m     \u001b[38;5;28mself\u001b[39m\u001b[38;5;241m.\u001b[39m_reset()  \u001b[38;5;66;03m# type: ignore[call-arg]\u001b[39;00m\n\u001b[0;32m--> 630\u001b[0m data \u001b[38;5;241m=\u001b[39m \u001b[38;5;28;43mself\u001b[39;49m\u001b[38;5;241;43m.\u001b[39;49m\u001b[43m_next_data\u001b[49m\u001b[43m(\u001b[49m\u001b[43m)\u001b[49m\n\u001b[1;32m    631\u001b[0m \u001b[38;5;28mself\u001b[39m\u001b[38;5;241m.\u001b[39m_num_yielded \u001b[38;5;241m+\u001b[39m\u001b[38;5;241m=\u001b[39m \u001b[38;5;241m1\u001b[39m\n\u001b[1;32m    632\u001b[0m \u001b[38;5;28;01mif\u001b[39;00m \u001b[38;5;28mself\u001b[39m\u001b[38;5;241m.\u001b[39m_dataset_kind \u001b[38;5;241m==\u001b[39m _DatasetKind\u001b[38;5;241m.\u001b[39mIterable \u001b[38;5;129;01mand\u001b[39;00m \\\n\u001b[1;32m    633\u001b[0m         \u001b[38;5;28mself\u001b[39m\u001b[38;5;241m.\u001b[39m_IterableDataset_len_called \u001b[38;5;129;01mis\u001b[39;00m \u001b[38;5;129;01mnot\u001b[39;00m \u001b[38;5;28;01mNone\u001b[39;00m \u001b[38;5;129;01mand\u001b[39;00m \\\n\u001b[1;32m    634\u001b[0m         \u001b[38;5;28mself\u001b[39m\u001b[38;5;241m.\u001b[39m_num_yielded \u001b[38;5;241m>\u001b[39m \u001b[38;5;28mself\u001b[39m\u001b[38;5;241m.\u001b[39m_IterableDataset_len_called:\n",
      "File \u001b[0;32m/usr/local/lib/python3.10/dist-packages/torch/utils/data/dataloader.py:674\u001b[0m, in \u001b[0;36m_SingleProcessDataLoaderIter._next_data\u001b[0;34m(self)\u001b[0m\n\u001b[1;32m    672\u001b[0m \u001b[38;5;28;01mdef\u001b[39;00m \u001b[38;5;21m_next_data\u001b[39m(\u001b[38;5;28mself\u001b[39m):\n\u001b[1;32m    673\u001b[0m     index \u001b[38;5;241m=\u001b[39m \u001b[38;5;28mself\u001b[39m\u001b[38;5;241m.\u001b[39m_next_index()  \u001b[38;5;66;03m# may raise StopIteration\u001b[39;00m\n\u001b[0;32m--> 674\u001b[0m     data \u001b[38;5;241m=\u001b[39m \u001b[38;5;28;43mself\u001b[39;49m\u001b[38;5;241;43m.\u001b[39;49m\u001b[43m_dataset_fetcher\u001b[49m\u001b[38;5;241;43m.\u001b[39;49m\u001b[43mfetch\u001b[49m\u001b[43m(\u001b[49m\u001b[43mindex\u001b[49m\u001b[43m)\u001b[49m  \u001b[38;5;66;03m# may raise StopIteration\u001b[39;00m\n\u001b[1;32m    675\u001b[0m     \u001b[38;5;28;01mif\u001b[39;00m \u001b[38;5;28mself\u001b[39m\u001b[38;5;241m.\u001b[39m_pin_memory:\n\u001b[1;32m    676\u001b[0m         data \u001b[38;5;241m=\u001b[39m _utils\u001b[38;5;241m.\u001b[39mpin_memory\u001b[38;5;241m.\u001b[39mpin_memory(data, \u001b[38;5;28mself\u001b[39m\u001b[38;5;241m.\u001b[39m_pin_memory_device)\n",
      "File \u001b[0;32m/usr/local/lib/python3.10/dist-packages/torch/utils/data/_utils/fetch.py:49\u001b[0m, in \u001b[0;36m_MapDatasetFetcher.fetch\u001b[0;34m(self, possibly_batched_index)\u001b[0m\n\u001b[1;32m     47\u001b[0m \u001b[38;5;28;01mif\u001b[39;00m \u001b[38;5;28mself\u001b[39m\u001b[38;5;241m.\u001b[39mauto_collation:\n\u001b[1;32m     48\u001b[0m     \u001b[38;5;28;01mif\u001b[39;00m \u001b[38;5;28mhasattr\u001b[39m(\u001b[38;5;28mself\u001b[39m\u001b[38;5;241m.\u001b[39mdataset, \u001b[38;5;124m\"\u001b[39m\u001b[38;5;124m__getitems__\u001b[39m\u001b[38;5;124m\"\u001b[39m) \u001b[38;5;129;01mand\u001b[39;00m \u001b[38;5;28mself\u001b[39m\u001b[38;5;241m.\u001b[39mdataset\u001b[38;5;241m.\u001b[39m__getitems__:\n\u001b[0;32m---> 49\u001b[0m         data \u001b[38;5;241m=\u001b[39m \u001b[38;5;28;43mself\u001b[39;49m\u001b[38;5;241;43m.\u001b[39;49m\u001b[43mdataset\u001b[49m\u001b[38;5;241;43m.\u001b[39;49m\u001b[43m__getitems__\u001b[49m\u001b[43m(\u001b[49m\u001b[43mpossibly_batched_index\u001b[49m\u001b[43m)\u001b[49m\n\u001b[1;32m     50\u001b[0m     \u001b[38;5;28;01melse\u001b[39;00m:\n\u001b[1;32m     51\u001b[0m         data \u001b[38;5;241m=\u001b[39m [\u001b[38;5;28mself\u001b[39m\u001b[38;5;241m.\u001b[39mdataset[idx] \u001b[38;5;28;01mfor\u001b[39;00m idx \u001b[38;5;129;01min\u001b[39;00m possibly_batched_index]\n",
      "File \u001b[0;32m/usr/local/lib/python3.10/dist-packages/torch/utils/data/dataset.py:364\u001b[0m, in \u001b[0;36mSubset.__getitems__\u001b[0;34m(self, indices)\u001b[0m\n\u001b[1;32m    362\u001b[0m     \u001b[38;5;28;01mreturn\u001b[39;00m \u001b[38;5;28mself\u001b[39m\u001b[38;5;241m.\u001b[39mdataset\u001b[38;5;241m.\u001b[39m__getitems__([\u001b[38;5;28mself\u001b[39m\u001b[38;5;241m.\u001b[39mindices[idx] \u001b[38;5;28;01mfor\u001b[39;00m idx \u001b[38;5;129;01min\u001b[39;00m indices])  \u001b[38;5;66;03m# type: ignore[attr-defined]\u001b[39;00m\n\u001b[1;32m    363\u001b[0m \u001b[38;5;28;01melse\u001b[39;00m:\n\u001b[0;32m--> 364\u001b[0m     \u001b[38;5;28;01mreturn\u001b[39;00m [\u001b[38;5;28mself\u001b[39m\u001b[38;5;241m.\u001b[39mdataset[\u001b[38;5;28mself\u001b[39m\u001b[38;5;241m.\u001b[39mindices[idx]] \u001b[38;5;28;01mfor\u001b[39;00m idx \u001b[38;5;129;01min\u001b[39;00m indices]\n",
      "File \u001b[0;32m/usr/local/lib/python3.10/dist-packages/torch/utils/data/dataset.py:364\u001b[0m, in \u001b[0;36m<listcomp>\u001b[0;34m(.0)\u001b[0m\n\u001b[1;32m    362\u001b[0m     \u001b[38;5;28;01mreturn\u001b[39;00m \u001b[38;5;28mself\u001b[39m\u001b[38;5;241m.\u001b[39mdataset\u001b[38;5;241m.\u001b[39m__getitems__([\u001b[38;5;28mself\u001b[39m\u001b[38;5;241m.\u001b[39mindices[idx] \u001b[38;5;28;01mfor\u001b[39;00m idx \u001b[38;5;129;01min\u001b[39;00m indices])  \u001b[38;5;66;03m# type: ignore[attr-defined]\u001b[39;00m\n\u001b[1;32m    363\u001b[0m \u001b[38;5;28;01melse\u001b[39;00m:\n\u001b[0;32m--> 364\u001b[0m     \u001b[38;5;28;01mreturn\u001b[39;00m [\u001b[38;5;28;43mself\u001b[39;49m\u001b[38;5;241;43m.\u001b[39;49m\u001b[43mdataset\u001b[49m\u001b[43m[\u001b[49m\u001b[38;5;28;43mself\u001b[39;49m\u001b[38;5;241;43m.\u001b[39;49m\u001b[43mindices\u001b[49m\u001b[43m[\u001b[49m\u001b[43midx\u001b[49m\u001b[43m]\u001b[49m\u001b[43m]\u001b[49m \u001b[38;5;28;01mfor\u001b[39;00m idx \u001b[38;5;129;01min\u001b[39;00m indices]\n",
      "File \u001b[0;32m/workspace/ppi_fork/data_prepare.py:52\u001b[0m, in \u001b[0;36mLabelledDataset.__getitem__\u001b[0;34m(self, index)\u001b[0m\n\u001b[1;32m     49\u001b[0m prot_2 \u001b[38;5;241m=\u001b[39m os\u001b[38;5;241m.\u001b[39mpath\u001b[38;5;241m.\u001b[39mjoin(\u001b[38;5;28mself\u001b[39m\u001b[38;5;241m.\u001b[39mprocessed_dir, \u001b[38;5;28mself\u001b[39m\u001b[38;5;241m.\u001b[39mprotein_2[index]\u001b[38;5;241m+\u001b[39m\u001b[38;5;124m\"\u001b[39m\u001b[38;5;124m.pt\u001b[39m\u001b[38;5;124m\"\u001b[39m)\n\u001b[1;32m     51\u001b[0m \u001b[38;5;66;03m# print(prot_1)\u001b[39;00m\n\u001b[0;32m---> 52\u001b[0m prot_1 \u001b[38;5;241m=\u001b[39m \u001b[43mtorch\u001b[49m\u001b[38;5;241;43m.\u001b[39;49m\u001b[43mload\u001b[49m\u001b[43m(\u001b[49m\u001b[43mglob\u001b[49m\u001b[38;5;241;43m.\u001b[39;49m\u001b[43mglob\u001b[49m\u001b[43m(\u001b[49m\u001b[43mprot_1\u001b[49m\u001b[43m)\u001b[49m\u001b[43m[\u001b[49m\u001b[38;5;241;43m0\u001b[39;49m\u001b[43m]\u001b[49m\u001b[43m)\u001b[49m\n\u001b[1;32m     53\u001b[0m \u001b[38;5;66;03m# print(prot_2)\u001b[39;00m\n\u001b[1;32m     54\u001b[0m prot_2 \u001b[38;5;241m=\u001b[39m torch\u001b[38;5;241m.\u001b[39mload(glob\u001b[38;5;241m.\u001b[39mglob(prot_2)[\u001b[38;5;241m0\u001b[39m])\n",
      "File \u001b[0;32m/usr/local/lib/python3.10/dist-packages/torch/serialization.py:1014\u001b[0m, in \u001b[0;36mload\u001b[0;34m(f, map_location, pickle_module, weights_only, mmap, **pickle_load_args)\u001b[0m\n\u001b[1;32m   1012\u001b[0m             \u001b[38;5;28;01mexcept\u001b[39;00m \u001b[38;5;167;01mRuntimeError\u001b[39;00m \u001b[38;5;28;01mas\u001b[39;00m e:\n\u001b[1;32m   1013\u001b[0m                 \u001b[38;5;28;01mraise\u001b[39;00m pickle\u001b[38;5;241m.\u001b[39mUnpicklingError(UNSAFE_MESSAGE \u001b[38;5;241m+\u001b[39m \u001b[38;5;28mstr\u001b[39m(e)) \u001b[38;5;28;01mfrom\u001b[39;00m \u001b[38;5;28;01mNone\u001b[39;00m\n\u001b[0;32m-> 1014\u001b[0m         \u001b[38;5;28;01mreturn\u001b[39;00m \u001b[43m_load\u001b[49m\u001b[43m(\u001b[49m\u001b[43mopened_zipfile\u001b[49m\u001b[43m,\u001b[49m\n\u001b[1;32m   1015\u001b[0m \u001b[43m                     \u001b[49m\u001b[43mmap_location\u001b[49m\u001b[43m,\u001b[49m\n\u001b[1;32m   1016\u001b[0m \u001b[43m                     \u001b[49m\u001b[43mpickle_module\u001b[49m\u001b[43m,\u001b[49m\n\u001b[1;32m   1017\u001b[0m \u001b[43m                     \u001b[49m\u001b[43moverall_storage\u001b[49m\u001b[38;5;241;43m=\u001b[39;49m\u001b[43moverall_storage\u001b[49m\u001b[43m,\u001b[49m\n\u001b[1;32m   1018\u001b[0m \u001b[43m                     \u001b[49m\u001b[38;5;241;43m*\u001b[39;49m\u001b[38;5;241;43m*\u001b[39;49m\u001b[43mpickle_load_args\u001b[49m\u001b[43m)\u001b[49m\n\u001b[1;32m   1019\u001b[0m \u001b[38;5;28;01mif\u001b[39;00m mmap:\n\u001b[1;32m   1020\u001b[0m     \u001b[38;5;28;01mraise\u001b[39;00m \u001b[38;5;167;01mRuntimeError\u001b[39;00m(\u001b[38;5;124m\"\u001b[39m\u001b[38;5;124mmmap can only be used with files saved with \u001b[39m\u001b[38;5;124m\"\u001b[39m,\n\u001b[1;32m   1021\u001b[0m                        \u001b[38;5;124m\"\u001b[39m\u001b[38;5;124m`torch.save(_use_new_zipfile_serialization=True), \u001b[39m\u001b[38;5;124m\"\u001b[39m\n\u001b[1;32m   1022\u001b[0m                        \u001b[38;5;124m\"\u001b[39m\u001b[38;5;124mplease torch.save your checkpoint with this option in order to use mmap.\u001b[39m\u001b[38;5;124m\"\u001b[39m)\n",
      "File \u001b[0;32m/usr/local/lib/python3.10/dist-packages/torch/serialization.py:1422\u001b[0m, in \u001b[0;36m_load\u001b[0;34m(zip_file, map_location, pickle_module, pickle_file, overall_storage, **pickle_load_args)\u001b[0m\n\u001b[1;32m   1420\u001b[0m unpickler \u001b[38;5;241m=\u001b[39m UnpicklerWrapper(data_file, \u001b[38;5;241m*\u001b[39m\u001b[38;5;241m*\u001b[39mpickle_load_args)\n\u001b[1;32m   1421\u001b[0m unpickler\u001b[38;5;241m.\u001b[39mpersistent_load \u001b[38;5;241m=\u001b[39m persistent_load\n\u001b[0;32m-> 1422\u001b[0m result \u001b[38;5;241m=\u001b[39m \u001b[43munpickler\u001b[49m\u001b[38;5;241;43m.\u001b[39;49m\u001b[43mload\u001b[49m\u001b[43m(\u001b[49m\u001b[43m)\u001b[49m\n\u001b[1;32m   1424\u001b[0m torch\u001b[38;5;241m.\u001b[39m_utils\u001b[38;5;241m.\u001b[39m_validate_loaded_sparse_tensors()\n\u001b[1;32m   1425\u001b[0m torch\u001b[38;5;241m.\u001b[39m_C\u001b[38;5;241m.\u001b[39m_log_api_usage_metadata(\n\u001b[1;32m   1426\u001b[0m     \u001b[38;5;124m\"\u001b[39m\u001b[38;5;124mtorch.load.metadata\u001b[39m\u001b[38;5;124m\"\u001b[39m, {\u001b[38;5;124m\"\u001b[39m\u001b[38;5;124mserialization_id\u001b[39m\u001b[38;5;124m\"\u001b[39m: zip_file\u001b[38;5;241m.\u001b[39mserialization_id()}\n\u001b[1;32m   1427\u001b[0m )\n",
      "File \u001b[0;32m/usr/local/lib/python3.10/dist-packages/torch/serialization.py:1392\u001b[0m, in \u001b[0;36m_load.<locals>.persistent_load\u001b[0;34m(saved_id)\u001b[0m\n\u001b[1;32m   1390\u001b[0m \u001b[38;5;28;01melse\u001b[39;00m:\n\u001b[1;32m   1391\u001b[0m     nbytes \u001b[38;5;241m=\u001b[39m numel \u001b[38;5;241m*\u001b[39m torch\u001b[38;5;241m.\u001b[39m_utils\u001b[38;5;241m.\u001b[39m_element_size(dtype)\n\u001b[0;32m-> 1392\u001b[0m     typed_storage \u001b[38;5;241m=\u001b[39m \u001b[43mload_tensor\u001b[49m\u001b[43m(\u001b[49m\u001b[43mdtype\u001b[49m\u001b[43m,\u001b[49m\u001b[43m \u001b[49m\u001b[43mnbytes\u001b[49m\u001b[43m,\u001b[49m\u001b[43m \u001b[49m\u001b[43mkey\u001b[49m\u001b[43m,\u001b[49m\u001b[43m \u001b[49m\u001b[43m_maybe_decode_ascii\u001b[49m\u001b[43m(\u001b[49m\u001b[43mlocation\u001b[49m\u001b[43m)\u001b[49m\u001b[43m)\u001b[49m\n\u001b[1;32m   1394\u001b[0m \u001b[38;5;28;01mreturn\u001b[39;00m typed_storage\n",
      "File \u001b[0;32m/usr/local/lib/python3.10/dist-packages/torch/serialization.py:1366\u001b[0m, in \u001b[0;36m_load.<locals>.load_tensor\u001b[0;34m(dtype, numel, key, location)\u001b[0m\n\u001b[1;32m   1361\u001b[0m         storage\u001b[38;5;241m.\u001b[39mbyteswap(dtype)\n\u001b[1;32m   1363\u001b[0m \u001b[38;5;66;03m# TODO: Once we decide to break serialization FC, we can\u001b[39;00m\n\u001b[1;32m   1364\u001b[0m \u001b[38;5;66;03m# stop wrapping with TypedStorage\u001b[39;00m\n\u001b[1;32m   1365\u001b[0m typed_storage \u001b[38;5;241m=\u001b[39m torch\u001b[38;5;241m.\u001b[39mstorage\u001b[38;5;241m.\u001b[39mTypedStorage(\n\u001b[0;32m-> 1366\u001b[0m     wrap_storage\u001b[38;5;241m=\u001b[39m\u001b[43mrestore_location\u001b[49m\u001b[43m(\u001b[49m\u001b[43mstorage\u001b[49m\u001b[43m,\u001b[49m\u001b[43m \u001b[49m\u001b[43mlocation\u001b[49m\u001b[43m)\u001b[49m,\n\u001b[1;32m   1367\u001b[0m     dtype\u001b[38;5;241m=\u001b[39mdtype,\n\u001b[1;32m   1368\u001b[0m     _internal\u001b[38;5;241m=\u001b[39m\u001b[38;5;28;01mTrue\u001b[39;00m)\n\u001b[1;32m   1370\u001b[0m \u001b[38;5;28;01mif\u001b[39;00m typed_storage\u001b[38;5;241m.\u001b[39m_data_ptr() \u001b[38;5;241m!=\u001b[39m \u001b[38;5;241m0\u001b[39m:\n\u001b[1;32m   1371\u001b[0m     loaded_storages[key] \u001b[38;5;241m=\u001b[39m typed_storage\n",
      "File \u001b[0;32m/usr/local/lib/python3.10/dist-packages/torch/serialization.py:381\u001b[0m, in \u001b[0;36mdefault_restore_location\u001b[0;34m(storage, location)\u001b[0m\n\u001b[1;32m    379\u001b[0m \u001b[38;5;28;01mdef\u001b[39;00m \u001b[38;5;21mdefault_restore_location\u001b[39m(storage, location):\n\u001b[1;32m    380\u001b[0m     \u001b[38;5;28;01mfor\u001b[39;00m _, _, fn \u001b[38;5;129;01min\u001b[39;00m _package_registry:\n\u001b[0;32m--> 381\u001b[0m         result \u001b[38;5;241m=\u001b[39m \u001b[43mfn\u001b[49m\u001b[43m(\u001b[49m\u001b[43mstorage\u001b[49m\u001b[43m,\u001b[49m\u001b[43m \u001b[49m\u001b[43mlocation\u001b[49m\u001b[43m)\u001b[49m\n\u001b[1;32m    382\u001b[0m         \u001b[38;5;28;01mif\u001b[39;00m result \u001b[38;5;129;01mis\u001b[39;00m \u001b[38;5;129;01mnot\u001b[39;00m \u001b[38;5;28;01mNone\u001b[39;00m:\n\u001b[1;32m    383\u001b[0m             \u001b[38;5;28;01mreturn\u001b[39;00m result\n",
      "File \u001b[0;32m/usr/local/lib/python3.10/dist-packages/torch/serialization.py:279\u001b[0m, in \u001b[0;36m_cuda_deserialize\u001b[0;34m(obj, location)\u001b[0m\n\u001b[1;32m    277\u001b[0m         \u001b[38;5;28;01mreturn\u001b[39;00m torch\u001b[38;5;241m.\u001b[39mUntypedStorage(obj\u001b[38;5;241m.\u001b[39mnbytes(), device\u001b[38;5;241m=\u001b[39mtorch\u001b[38;5;241m.\u001b[39mdevice(location))\n\u001b[1;32m    278\u001b[0m \u001b[38;5;28;01melse\u001b[39;00m:\n\u001b[0;32m--> 279\u001b[0m     \u001b[38;5;28;01mreturn\u001b[39;00m \u001b[43mobj\u001b[49m\u001b[38;5;241;43m.\u001b[39;49m\u001b[43mcuda\u001b[49m\u001b[43m(\u001b[49m\u001b[43mdevice\u001b[49m\u001b[43m)\u001b[49m\n",
      "File \u001b[0;32m/usr/local/lib/python3.10/dist-packages/torch/_utils.py:117\u001b[0m, in \u001b[0;36m_cuda\u001b[0;34m(self, device, non_blocking, **kwargs)\u001b[0m\n\u001b[1;32m    113\u001b[0m \u001b[38;5;28;01melse\u001b[39;00m:\n\u001b[1;32m    114\u001b[0m     untyped_storage \u001b[38;5;241m=\u001b[39m torch\u001b[38;5;241m.\u001b[39mUntypedStorage(\n\u001b[1;32m    115\u001b[0m         \u001b[38;5;28mself\u001b[39m\u001b[38;5;241m.\u001b[39msize(), device\u001b[38;5;241m=\u001b[39mtorch\u001b[38;5;241m.\u001b[39mdevice(\u001b[38;5;124m\"\u001b[39m\u001b[38;5;124mcuda\u001b[39m\u001b[38;5;124m\"\u001b[39m)\n\u001b[1;32m    116\u001b[0m     )\n\u001b[0;32m--> 117\u001b[0m     \u001b[43muntyped_storage\u001b[49m\u001b[38;5;241;43m.\u001b[39;49m\u001b[43mcopy_\u001b[49m\u001b[43m(\u001b[49m\u001b[38;5;28;43mself\u001b[39;49m\u001b[43m,\u001b[49m\u001b[43m \u001b[49m\u001b[43mnon_blocking\u001b[49m\u001b[43m)\u001b[49m\n\u001b[1;32m    118\u001b[0m     \u001b[38;5;28;01mreturn\u001b[39;00m untyped_storage\n",
      "\u001b[0;31mKeyboardInterrupt\u001b[0m: "
     ]
    }
   ],
   "source": [
    "from tqdm.auto import tqdm\n",
    "\n",
    "with torch.no_grad():\n",
    "    for prot_1, prot_2, label, mas1_straight, mas1_flipped, mas2_straight, mas2_flipped in tqdm(testloader):\n",
    "        prot_1 = prot_1.to(device)\n",
    "        prot_2 = prot_2.to(device)\n",
    "        mas1_straight = mas1_straight.to(device)\n",
    "        mas1_flipped = mas1_flipped.to(device)\n",
    "        mas2_straight = mas2_straight.to(device)\n",
    "        mas2_flipped = mas2_flipped.to(device)\n",
    "        label = label.to(device)\n",
    "        # Forward pass\n",
    "        output = model(prot_1, prot_2, mas1_straight, mas1_flipped, mas2_straight, mas2_flipped)\n",
    "        # Collect predictions and labels\n",
    "        predictions = torch.cat((predictions, output), dim=0)\n",
    "        labels = torch.cat((labels, label.view(-1, 1)), dim=0)\n",
    "            \n",
    "# Convert to numpy for metrics\n",
    "labels = labels.cpu().numpy().flatten()\n",
    "predictions = predictions.cpu().numpy().flatten()"
   ]
  },
  {
   "cell_type": "code",
   "execution_count": 58,
   "id": "79f9e265-b51c-46c7-84e5-26daf8ba17b4",
   "metadata": {},
   "outputs": [],
   "source": [
    "threshold = 0.5 "
   ]
  },
  {
   "cell_type": "code",
   "execution_count": 59,
   "id": "3b5bf442-823b-4a58-9fb9-a6aa17b47721",
   "metadata": {},
   "outputs": [],
   "source": [
    "loss = get_mse(labels, predictions)\n",
    "acc = get_accuracy(labels, predictions, threshold)\n",
    "prec = precision(labels, predictions, threshold)\n",
    "sensitivity = sensitivity(labels, predictions, threshold)\n",
    "specificity = specificity(labels, predictions, threshold)\n",
    "f1 = f_score(labels, predictions, threshold)\n",
    "mcc = mcc(labels, predictions, threshold)\n",
    "auroc = auroc(labels, predictions)\n",
    "auprc = auprc(labels, predictions)\n"
   ]
  },
  {
   "cell_type": "code",
   "execution_count": 60,
   "id": "ce3b64ac-733d-4691-9089-1a610fe785d3",
   "metadata": {},
   "outputs": [
    {
     "data": {
      "text/plain": [
       "44.943645"
      ]
     },
     "execution_count": 60,
     "metadata": {},
     "output_type": "execute_result"
    }
   ],
   "source": [
    "loss"
   ]
  },
  {
   "cell_type": "code",
   "execution_count": 61,
   "id": "c54fc5f9-3d7a-425a-9ed7-9d1551967cb6",
   "metadata": {},
   "outputs": [
    {
     "data": {
      "text/plain": [
       "88.77941981390258"
      ]
     },
     "execution_count": 61,
     "metadata": {},
     "output_type": "execute_result"
    }
   ],
   "source": [
    "acc"
   ]
  },
  {
   "cell_type": "code",
   "execution_count": 62,
   "id": "ced10d64-41f1-475b-b0fb-edf941ca83d8",
   "metadata": {},
   "outputs": [
    {
     "data": {
      "text/plain": [
       "0.9108352144469526"
      ]
     },
     "execution_count": 62,
     "metadata": {},
     "output_type": "execute_result"
    }
   ],
   "source": [
    "prec"
   ]
  },
  {
   "cell_type": "code",
   "execution_count": 63,
   "id": "ee386c3e-0d4c-4428-90f0-c9c0a5624c3d",
   "metadata": {},
   "outputs": [
    {
     "data": {
      "text/plain": [
       "0.864951768488746"
      ]
     },
     "execution_count": 63,
     "metadata": {},
     "output_type": "execute_result"
    }
   ],
   "source": [
    "sensitivity \n"
   ]
  },
  {
   "cell_type": "code",
   "execution_count": 64,
   "id": "e4154471-7f8c-4302-ac38-ab1909de25cc",
   "metadata": {},
   "outputs": [
    {
     "data": {
      "text/plain": [
       "0.9116331096196868"
      ]
     },
     "execution_count": 64,
     "metadata": {},
     "output_type": "execute_result"
    }
   ],
   "source": [
    "specificity \n"
   ]
  },
  {
   "cell_type": "code",
   "execution_count": 65,
   "id": "0e83f87a-dfa7-4eae-b4aa-6a2c57106ce6",
   "metadata": {},
   "outputs": [
    {
     "data": {
      "text/plain": [
       "0.8873007146783948"
      ]
     },
     "execution_count": 65,
     "metadata": {},
     "output_type": "execute_result"
    }
   ],
   "source": [
    "f1\n"
   ]
  },
  {
   "cell_type": "code",
   "execution_count": 66,
   "id": "5f76464e-6a8e-4c81-a5ed-f46948cd1175",
   "metadata": {},
   "outputs": [
    {
     "data": {
      "text/plain": [
       "0.776759973403508"
      ]
     },
     "execution_count": 66,
     "metadata": {},
     "output_type": "execute_result"
    }
   ],
   "source": [
    "mcc "
   ]
  },
  {
   "cell_type": "code",
   "execution_count": 67,
   "id": "d5263d1c-1c98-4aa6-8505-004177f49358",
   "metadata": {},
   "outputs": [
    {
     "data": {
      "text/plain": [
       "0.9404359418872033"
      ]
     },
     "execution_count": 67,
     "metadata": {},
     "output_type": "execute_result"
    }
   ],
   "source": [
    "auroc\n"
   ]
  },
  {
   "cell_type": "code",
   "execution_count": 69,
   "id": "6915ffc4-e21b-4d5f-865f-929d1d9b0d9d",
   "metadata": {},
   "outputs": [
    {
     "data": {
      "text/plain": [
       "0.9498247976709834"
      ]
     },
     "execution_count": 69,
     "metadata": {},
     "output_type": "execute_result"
    }
   ],
   "source": [
    "auprc "
   ]
  },
  {
   "cell_type": "code",
   "execution_count": null,
   "id": "921de1b7",
   "metadata": {},
   "outputs": [],
   "source": [
    "## Plots "
   ]
  },
  {
   "cell_type": "code",
   "execution_count": 79,
   "id": "0a0b49ef-9ceb-423d-8be9-6bb631b70642",
   "metadata": {},
   "outputs": [],
   "source": [
    "import os\n",
    "os.makedirs(\"plots_seminar\", exist_ok=True)"
   ]
  },
  {
   "cell_type": "code",
   "execution_count": 81,
   "id": "a8ca8a8e",
   "metadata": {},
   "outputs": [],
   "source": [
    "import matplotlib.pyplot as plt\n",
    "from sklearn.metrics import roc_curve, precision_recall_curve, confusion_matrix, ConfusionMatrixDisplay\n",
    "\n",
    "# ROC Curve\n",
    "fpr, tpr, _ = roc_curve(labels, predictions)\n",
    "plt.figure(figsize=(6, 5))\n",
    "plt.plot(fpr, tpr, label=f\"AUROC = {auroc:.2f}\")\n",
    "plt.plot([0, 1], [0, 1], 'k--')\n",
    "plt.xlabel(\"False Positive Rate\")\n",
    "plt.ylabel(\"True Positive Rate\")\n",
    "plt.title(\"ROC Curve\")\n",
    "plt.legend()\n",
    "plt.grid(True)\n",
    "plt.tight_layout()\n",
    "plt.savefig(\"plots_seminar/roc_curve.png\")\n",
    "plt.close()"
   ]
  },
  {
   "cell_type": "code",
   "execution_count": 82,
   "id": "e1381a52-7bc7-4da2-b186-4d46938d1e02",
   "metadata": {},
   "outputs": [],
   "source": [
    "# Precision-Recall Curve\n",
    "precision_vals, recall_vals, _ = precision_recall_curve(labels, predictions)\n",
    "plt.figure(figsize=(6, 5))\n",
    "plt.plot(recall_vals, precision_vals, label=f\"AUPRC = {auprc:.2f}\")\n",
    "plt.xlabel(\"Recall\")\n",
    "plt.ylabel(\"Precision\")\n",
    "plt.title(\"Precision-Recall Curve\")\n",
    "plt.legend()\n",
    "plt.grid(True)\n",
    "plt.tight_layout()\n",
    "plt.savefig(\"plots_seminar/precision_recall_curve.png\")\n",
    "plt.close()"
   ]
  },
  {
   "cell_type": "code",
   "execution_count": 84,
   "id": "03841cb2-554f-4fb3-ae3d-e8043f13636b",
   "metadata": {},
   "outputs": [],
   "source": [
    "# Confusion Matrix\n",
    "pred_binary = (predictions >= threshold).astype(int)\n",
    "cm = confusion_matrix(labels, pred_binary)\n",
    "plt.figure(figsize=(5, 4))\n",
    "sns.heatmap(cm, annot=True, fmt=\"d\", cmap=\"Blues\", xticklabels=[\"Pred 0\", \"Pred 1\"], yticklabels=[\"True 0\", \"True 1\"])\n",
    "plt.title(\"Confusion Matrix\")\n",
    "plt.ylabel(\"True Label\")\n",
    "plt.xlabel(\"Predicted Label\")\n",
    "plt.tight_layout()\n",
    "plt.savefig(\"plots_seminar/confusion_matrix.png\")\n",
    "plt.close()"
   ]
  },
  {
   "cell_type": "code",
   "execution_count": 85,
   "id": "86ff7ea0-c149-4271-8a53-2203f5a24a91",
   "metadata": {},
   "outputs": [],
   "source": [
    "# Distribution of prediction scores\n",
    "plt.figure(figsize=(6, 5))\n",
    "plt.hist(predictions[labels == 0], bins=30, alpha=0.6, label=\"Negative\")\n",
    "plt.hist(predictions[labels == 1], bins=30, alpha=0.6, label=\"Positive\")\n",
    "plt.axvline(x=threshold, color='red', linestyle='--', label=f\"Threshold = {threshold}\")\n",
    "plt.title(\"Prediction Score Distribution\")\n",
    "plt.xlabel(\"Predicted Score\")\n",
    "plt.ylabel(\"Count\")\n",
    "plt.legend()\n",
    "plt.grid(True)\n",
    "plt.tight_layout()\n",
    "plt.savefig(\"plots_seminar/prediction_distribution.png\")\n",
    "plt.close()"
   ]
  }
 ],
 "metadata": {
  "kernelspec": {
   "display_name": "Python 3 (ipykernel)",
   "language": "python",
   "name": "python3"
  },
  "language_info": {
   "codemirror_mode": {
    "name": "ipython",
    "version": 3
   },
   "file_extension": ".py",
   "mimetype": "text/x-python",
   "name": "python",
   "nbconvert_exporter": "python",
   "pygments_lexer": "ipython3",
   "version": "3.10.12"
  }
 },
 "nbformat": 4,
 "nbformat_minor": 5
}
