{
 "cells": [
  {
   "cell_type": "code",
   "execution_count": 52,
   "id": "a4665084-eac8-4b80-810f-a38edde0acd6",
   "metadata": {},
   "outputs": [],
   "source": [
    "import torch\n",
    "import numpy as np\n",
    "from metrics import *\n",
    "from data_prepare import testloader\n",
    "import torch.nn as nn\n",
    "import torch.nn.functional as F\n",
    "from torch_geometric.nn import GCNConv, GATConv, global_max_pool as gmp, global_add_pool as gap,global_mean_pool as gep,global_sort_pool\n",
    "from torch_geometric.utils import dropout_adj\n",
    "from torch.optim.lr_scheduler import MultiStepLR\n"
   ]
  },
  {
   "cell_type": "code",
   "execution_count": 53,
   "id": "2286c984-57a0-4082-a1c5-93d7888c81ee",
   "metadata": {},
   "outputs": [
    {
     "name": "stdout",
     "output_type": "stream",
     "text": [
      "cuda:0\n"
     ]
    }
   ],
   "source": [
    "device = torch.device(\"cuda:0\" if torch.cuda.is_available() else \"cpu\")\n",
    "print(device)"
   ]
  },
  {
   "cell_type": "code",
   "execution_count": 54,
   "id": "3eb47781",
   "metadata": {},
   "outputs": [],
   "source": [
    "import torch.nn as nn\n",
    "import torch.nn.functional as F\n",
    "from torch_geometric.nn import GCNConv\n",
    "\n",
    "class GCNN(nn.Module):\n",
    "    def __init__(self, n_output=1, num_features_pro=1024, output_dim=128, dropout=0.2):\n",
    "        super(GCNN, self).__init__()\n",
    "        print('GCNN Loaded')\n",
    "        self.n_output = n_output\n",
    "        self.pro1_conv1 = GCNConv(num_features_pro, num_features_pro)\n",
    "        self.pro1_fc1 = nn.Linear(num_features_pro, output_dim)\n",
    "        self.pro2_conv1 = GCNConv(num_features_pro, num_features_pro)\n",
    "        self.pro2_fc1 = nn.Linear(num_features_pro, output_dim)\n",
    "        \n",
    "        self.descriptor_dim = 80\n",
    "        self.transformer_dim = 32 - 1\n",
    "        self.reducer = nn.Linear(self.descriptor_dim, self.transformer_dim)\n",
    "\n",
    "        # Transformer parameters\n",
    "        \n",
    "        self.nhead = 4\n",
    "        self.num_layers = 2\n",
    "\n",
    "        # Transformer encoders for masif descriptors\n",
    "        self.transformer = nn.TransformerEncoder(\n",
    "            nn.TransformerEncoderLayer(\n",
    "                d_model=self.transformer_dim + 1,  # +1 for the indicator\n",
    "                nhead=self.nhead,\n",
    "                dim_feedforward=128,\n",
    "                dropout=dropout\n",
    "            ),\n",
    "            num_layers=self.num_layers\n",
    "        )\n",
    "        \n",
    "        # Output processing\n",
    "        self.relu = nn.LeakyReLU()\n",
    "        self.dropout = nn.Dropout(dropout)\n",
    "        self.sigmoid = nn.Sigmoid()\n",
    "        \n",
    "        # Final layers\n",
    "        combined_dim = 2 * output_dim + 2 * (self.transformer_dim + 1)\n",
    "        self.final_fc = nn.Linear(combined_dim, self.n_output)\n",
    "\n",
    "    def forward(self, pro1_data, pro2_data, mas1_straight, mas1_flipped, mas2_straight, mas2_flipped):\n",
    "        # Process protein 1 with GNN\n",
    "        pro1_x, pro1_edge_index, pro1_batch = pro1_data.x, pro1_data.edge_index, pro1_data.batch\n",
    "        x = self.pro1_conv1(pro1_x, pro1_edge_index)\n",
    "        x = self.relu(x)\n",
    "        x = gep(x, pro1_batch)\n",
    "        x = self.relu(self.pro1_fc1(x))\n",
    "        x = self.dropout(x)\n",
    "\n",
    "        # Process protein 2 with GNN\n",
    "        pro2_x, pro2_edge_index, pro2_batch = pro2_data.x, pro2_data.edge_index, pro2_data.batch\n",
    "        xt = self.pro2_conv1(pro2_x, pro2_edge_index)\n",
    "        xt = self.relu(xt)\n",
    "        xt = gep(xt, pro2_batch)\n",
    "        xt = self.relu(self.pro2_fc1(xt))\n",
    "        xt = self.dropout(xt)\n",
    "\n",
    "        # Process masif descriptors with transformers\n",
    "        # Add indicator (0/1) for straight/flipped\n",
    "        batch_size = mas1_straight.size(0)\n",
    "        \n",
    "        # Prepare indicators\n",
    "        straight_indicator = torch.ones((*mas1_straight.shape[:-1], 1), device=mas1_straight.device)\n",
    "        flipped_indicator = torch.zeros((*mas1_flipped.shape[:-1], 1), device=mas1_flipped.device)\n",
    "        \n",
    "        mas1_straight = self.reducer(mas1_straight)\n",
    "        mas1_flipped = self.reducer(mas1_flipped)\n",
    "        mas2_straight = self.reducer(mas2_straight)\n",
    "        mas2_flipped = self.reducer(mas2_flipped)\n",
    "\n",
    "        # Concatenate descriptors with indicators\n",
    "        mas1_straight = torch.cat([mas1_straight, straight_indicator], dim=-1)\n",
    "        mas1_flipped = torch.cat([mas1_flipped, flipped_indicator], dim=-1)\n",
    "        mas2_straight = torch.cat([mas2_straight, straight_indicator], dim=-1)\n",
    "        mas2_flipped = torch.cat([mas2_flipped, flipped_indicator], dim=-1)\n",
    "        \n",
    "        # Process through transformers\n",
    "        # Combine straight and flipped for each protein\n",
    "        mas1 = torch.cat([mas1_straight, mas1_flipped], dim=1)\n",
    "        mas2 = torch.cat([mas2_straight, mas2_flipped], dim=1)\n",
    "        \n",
    "        # Transform sequences (B, L, D) -> (L, B, D) for transformer\n",
    "        mas1 = mas1.transpose(0, 1)\n",
    "        mas2 = mas2.transpose(0, 1)\n",
    "\n",
    "        # Apply transformers\n",
    "        mas1_out = self.transformer(mas1)\n",
    "        mas2_out = self.transformer(mas2)\n",
    "        \n",
    "        # Get mean of transformer outputs for global representation\n",
    "        mas1_out = mas1_out.mean(dim=0)\n",
    "        mas2_out = mas2_out.mean(dim=0)\n",
    "\n",
    "        # Concatenate all features\n",
    "        combined = torch.cat([x, xt, mas1_out, mas2_out], dim=1)\n",
    "        \n",
    "        # Final prediction (logits)\n",
    "        out = self.final_fc(combined)\n",
    "        return out"
   ]
  },
  {
   "cell_type": "code",
   "execution_count": 55,
   "id": "a041a52e-cac3-470a-b58a-67d75109d2e5",
   "metadata": {},
   "outputs": [
    {
     "name": "stdout",
     "output_type": "stream",
     "text": [
      "GCNN Loaded\n"
     ]
    },
    {
     "name": "stderr",
     "output_type": "stream",
     "text": [
      "/usr/local/lib/python3.10/dist-packages/torch/nn/modules/transformer.py:282: UserWarning: enable_nested_tensor is True, but self.use_nested_tensor is False because encoder_layer.self_attn.batch_first was not True(use batch_first for better inference performance)\n",
      "  warnings.warn(f\"enable_nested_tensor is True, but self.use_nested_tensor is False because {why_not_sparsity_fast_path}\")\n"
     ]
    },
    {
     "data": {
      "text/plain": [
       "GCNN(\n",
       "  (pro1_conv1): GCNConv(1024, 1024)\n",
       "  (pro1_fc1): Linear(in_features=1024, out_features=128, bias=True)\n",
       "  (pro2_conv1): GCNConv(1024, 1024)\n",
       "  (pro2_fc1): Linear(in_features=1024, out_features=128, bias=True)\n",
       "  (reducer): Linear(in_features=80, out_features=31, bias=True)\n",
       "  (transformer): TransformerEncoder(\n",
       "    (layers): ModuleList(\n",
       "      (0-1): 2 x TransformerEncoderLayer(\n",
       "        (self_attn): MultiheadAttention(\n",
       "          (out_proj): NonDynamicallyQuantizableLinear(in_features=32, out_features=32, bias=True)\n",
       "        )\n",
       "        (linear1): Linear(in_features=32, out_features=128, bias=True)\n",
       "        (dropout): Dropout(p=0.2, inplace=False)\n",
       "        (linear2): Linear(in_features=128, out_features=32, bias=True)\n",
       "        (norm1): LayerNorm((32,), eps=1e-05, elementwise_affine=True)\n",
       "        (norm2): LayerNorm((32,), eps=1e-05, elementwise_affine=True)\n",
       "        (dropout1): Dropout(p=0.2, inplace=False)\n",
       "        (dropout2): Dropout(p=0.2, inplace=False)\n",
       "      )\n",
       "    )\n",
       "  )\n",
       "  (relu): LeakyReLU(negative_slope=0.01)\n",
       "  (dropout): Dropout(p=0.2, inplace=False)\n",
       "  (sigmoid): Sigmoid()\n",
       "  (final_fc): Linear(in_features=320, out_features=1, bias=True)\n",
       ")"
      ]
     },
     "execution_count": 55,
     "metadata": {},
     "output_type": "execute_result"
    }
   ],
   "source": [
    "model = GCNN()\n",
    "model.load_state_dict(torch.load(\"/workspace/masif_features/GCN_old.pth\"))\n",
    "model.to(device)\n",
    "model.eval()"
   ]
  },
  {
   "cell_type": "code",
   "execution_count": 56,
   "id": "ed280d62",
   "metadata": {},
   "outputs": [],
   "source": [
    "predictions = torch.Tensor().to(device)\n",
    "labels = torch.Tensor().to(device)"
   ]
  },
  {
   "cell_type": "code",
   "execution_count": 57,
   "id": "ddb91ff2-31e8-4d8f-a067-72ca2ceda2df",
   "metadata": {},
   "outputs": [
    {
     "data": {
      "application/vnd.jupyter.widget-view+json": {
       "model_id": "7a21ef46ca924458ae773755836fe5e4",
       "version_major": 2,
       "version_minor": 0
      },
      "text/plain": [
       "  0%|          | 0/457 [00:00<?, ?it/s]"
      ]
     },
     "metadata": {},
     "output_type": "display_data"
    }
   ],
   "source": [
    "from tqdm.auto import tqdm\n",
    "\n",
    "with torch.no_grad():\n",
    "    for prot_1, prot_2, label, mas1_straight, mas1_flipped, mas2_straight, mas2_flipped in tqdm(testloader):\n",
    "        prot_1 = prot_1.to(device)\n",
    "        prot_2 = prot_2.to(device)\n",
    "        mas1_straight = mas1_straight.to(device)\n",
    "        mas1_flipped = mas1_flipped.to(device)\n",
    "        mas2_straight = mas2_straight.to(device)\n",
    "        mas2_flipped = mas2_flipped.to(device)\n",
    "        label = label.to(device)\n",
    "        # Forward pass\n",
    "        output = model(prot_1, prot_2, mas1_straight, mas1_flipped, mas2_straight, mas2_flipped)\n",
    "        # Collect predictions and labels\n",
    "        predictions = torch.cat((predictions, output), dim=0)\n",
    "        labels = torch.cat((labels, label.view(-1, 1)), dim=0)\n",
    "            \n",
    "# Convert to numpy for metrics\n",
    "labels = labels.cpu().numpy().flatten()\n",
    "predictions = predictions.cpu().numpy().flatten()"
   ]
  },
  {
   "cell_type": "code",
   "execution_count": 58,
   "id": "79f9e265-b51c-46c7-84e5-26daf8ba17b4",
   "metadata": {},
   "outputs": [],
   "source": [
    "threshold = 0.5 "
   ]
  },
  {
   "cell_type": "code",
   "execution_count": 59,
   "id": "3b5bf442-823b-4a58-9fb9-a6aa17b47721",
   "metadata": {},
   "outputs": [],
   "source": [
    "loss = get_mse(labels, predictions)\n",
    "acc = get_accuracy(labels, predictions, threshold)\n",
    "prec = precision(labels, predictions, threshold)\n",
    "sensitivity = sensitivity(labels, predictions, threshold)\n",
    "specificity = specificity(labels, predictions, threshold)\n",
    "f1 = f_score(labels, predictions, threshold)\n",
    "mcc = mcc(labels, predictions, threshold)\n",
    "auroc = auroc(labels, predictions)\n",
    "auprc = auprc(labels, predictions)\n"
   ]
  },
  {
   "cell_type": "code",
   "execution_count": 60,
   "id": "ce3b64ac-733d-4691-9089-1a610fe785d3",
   "metadata": {},
   "outputs": [
    {
     "data": {
      "text/plain": [
       "44.943645"
      ]
     },
     "execution_count": 60,
     "metadata": {},
     "output_type": "execute_result"
    }
   ],
   "source": [
    "loss"
   ]
  },
  {
   "cell_type": "code",
   "execution_count": 61,
   "id": "c54fc5f9-3d7a-425a-9ed7-9d1551967cb6",
   "metadata": {},
   "outputs": [
    {
     "data": {
      "text/plain": [
       "88.77941981390258"
      ]
     },
     "execution_count": 61,
     "metadata": {},
     "output_type": "execute_result"
    }
   ],
   "source": [
    "acc"
   ]
  },
  {
   "cell_type": "code",
   "execution_count": 62,
   "id": "ced10d64-41f1-475b-b0fb-edf941ca83d8",
   "metadata": {},
   "outputs": [
    {
     "data": {
      "text/plain": [
       "0.9108352144469526"
      ]
     },
     "execution_count": 62,
     "metadata": {},
     "output_type": "execute_result"
    }
   ],
   "source": [
    "prec"
   ]
  },
  {
   "cell_type": "code",
   "execution_count": 63,
   "id": "ee386c3e-0d4c-4428-90f0-c9c0a5624c3d",
   "metadata": {},
   "outputs": [
    {
     "data": {
      "text/plain": [
       "0.864951768488746"
      ]
     },
     "execution_count": 63,
     "metadata": {},
     "output_type": "execute_result"
    }
   ],
   "source": [
    "sensitivity \n"
   ]
  },
  {
   "cell_type": "code",
   "execution_count": 64,
   "id": "e4154471-7f8c-4302-ac38-ab1909de25cc",
   "metadata": {},
   "outputs": [
    {
     "data": {
      "text/plain": [
       "0.9116331096196868"
      ]
     },
     "execution_count": 64,
     "metadata": {},
     "output_type": "execute_result"
    }
   ],
   "source": [
    "specificity \n"
   ]
  },
  {
   "cell_type": "code",
   "execution_count": 65,
   "id": "0e83f87a-dfa7-4eae-b4aa-6a2c57106ce6",
   "metadata": {},
   "outputs": [
    {
     "data": {
      "text/plain": [
       "0.8873007146783948"
      ]
     },
     "execution_count": 65,
     "metadata": {},
     "output_type": "execute_result"
    }
   ],
   "source": [
    "f1\n"
   ]
  },
  {
   "cell_type": "code",
   "execution_count": 66,
   "id": "5f76464e-6a8e-4c81-a5ed-f46948cd1175",
   "metadata": {},
   "outputs": [
    {
     "data": {
      "text/plain": [
       "0.776759973403508"
      ]
     },
     "execution_count": 66,
     "metadata": {},
     "output_type": "execute_result"
    }
   ],
   "source": [
    "mcc "
   ]
  },
  {
   "cell_type": "code",
   "execution_count": 67,
   "id": "d5263d1c-1c98-4aa6-8505-004177f49358",
   "metadata": {},
   "outputs": [
    {
     "data": {
      "text/plain": [
       "0.9404359418872033"
      ]
     },
     "execution_count": 67,
     "metadata": {},
     "output_type": "execute_result"
    }
   ],
   "source": [
    "auroc\n"
   ]
  },
  {
   "cell_type": "code",
   "execution_count": 69,
   "id": "6915ffc4-e21b-4d5f-865f-929d1d9b0d9d",
   "metadata": {},
   "outputs": [
    {
     "data": {
      "text/plain": [
       "0.9498247976709834"
      ]
     },
     "execution_count": 69,
     "metadata": {},
     "output_type": "execute_result"
    }
   ],
   "source": [
    "auprc "
   ]
  },
  {
   "cell_type": "code",
   "execution_count": null,
   "id": "921de1b7",
   "metadata": {},
   "outputs": [],
   "source": [
    "## Plots "
   ]
  },
  {
   "cell_type": "code",
   "execution_count": 79,
   "id": "0a0b49ef-9ceb-423d-8be9-6bb631b70642",
   "metadata": {},
   "outputs": [],
   "source": [
    "import os\n",
    "os.makedirs(\"plots_seminar\", exist_ok=True)"
   ]
  },
  {
   "cell_type": "code",
   "execution_count": 81,
   "id": "a8ca8a8e",
   "metadata": {},
   "outputs": [],
   "source": [
    "import matplotlib.pyplot as plt\n",
    "from sklearn.metrics import roc_curve, precision_recall_curve, confusion_matrix, ConfusionMatrixDisplay\n",
    "\n",
    "# ROC Curve\n",
    "fpr, tpr, _ = roc_curve(labels, predictions)\n",
    "plt.figure(figsize=(6, 5))\n",
    "plt.plot(fpr, tpr, label=f\"AUROC = {auroc:.2f}\")\n",
    "plt.plot([0, 1], [0, 1], 'k--')\n",
    "plt.xlabel(\"False Positive Rate\")\n",
    "plt.ylabel(\"True Positive Rate\")\n",
    "plt.title(\"ROC Curve\")\n",
    "plt.legend()\n",
    "plt.grid(True)\n",
    "plt.tight_layout()\n",
    "plt.savefig(\"plots_seminar/roc_curve.png\")\n",
    "plt.close()"
   ]
  },
  {
   "cell_type": "code",
   "execution_count": 82,
   "id": "e1381a52-7bc7-4da2-b186-4d46938d1e02",
   "metadata": {},
   "outputs": [],
   "source": [
    "# Precision-Recall Curve\n",
    "precision_vals, recall_vals, _ = precision_recall_curve(labels, predictions)\n",
    "plt.figure(figsize=(6, 5))\n",
    "plt.plot(recall_vals, precision_vals, label=f\"AUPRC = {auprc:.2f}\")\n",
    "plt.xlabel(\"Recall\")\n",
    "plt.ylabel(\"Precision\")\n",
    "plt.title(\"Precision-Recall Curve\")\n",
    "plt.legend()\n",
    "plt.grid(True)\n",
    "plt.tight_layout()\n",
    "plt.savefig(\"plots_seminar/precision_recall_curve.png\")\n",
    "plt.close()"
   ]
  },
  {
   "cell_type": "code",
   "execution_count": 84,
   "id": "03841cb2-554f-4fb3-ae3d-e8043f13636b",
   "metadata": {},
   "outputs": [],
   "source": [
    "# Confusion Matrix\n",
    "pred_binary = (predictions >= threshold).astype(int)\n",
    "cm = confusion_matrix(labels, pred_binary)\n",
    "plt.figure(figsize=(5, 4))\n",
    "sns.heatmap(cm, annot=True, fmt=\"d\", cmap=\"Blues\", xticklabels=[\"Pred 0\", \"Pred 1\"], yticklabels=[\"True 0\", \"True 1\"])\n",
    "plt.title(\"Confusion Matrix\")\n",
    "plt.ylabel(\"True Label\")\n",
    "plt.xlabel(\"Predicted Label\")\n",
    "plt.tight_layout()\n",
    "plt.savefig(\"plots_seminar/confusion_matrix.png\")\n",
    "plt.close()"
   ]
  },
  {
   "cell_type": "code",
   "execution_count": 85,
   "id": "86ff7ea0-c149-4271-8a53-2203f5a24a91",
   "metadata": {},
   "outputs": [],
   "source": [
    "# Distribution of prediction scores\n",
    "plt.figure(figsize=(6, 5))\n",
    "plt.hist(predictions[labels == 0], bins=30, alpha=0.6, label=\"Negative\")\n",
    "plt.hist(predictions[labels == 1], bins=30, alpha=0.6, label=\"Positive\")\n",
    "plt.axvline(x=threshold, color='red', linestyle='--', label=f\"Threshold = {threshold}\")\n",
    "plt.title(\"Prediction Score Distribution\")\n",
    "plt.xlabel(\"Predicted Score\")\n",
    "plt.ylabel(\"Count\")\n",
    "plt.legend()\n",
    "plt.grid(True)\n",
    "plt.tight_layout()\n",
    "plt.savefig(\"plots_seminar/prediction_distribution.png\")\n",
    "plt.close()"
   ]
  }
 ],
 "metadata": {
  "kernelspec": {
   "display_name": "Python 3 (ipykernel)",
   "language": "python",
   "name": "python3"
  },
  "language_info": {
   "codemirror_mode": {
    "name": "ipython",
    "version": 3
   },
   "file_extension": ".py",
   "mimetype": "text/x-python",
   "name": "python",
   "nbconvert_exporter": "python",
   "pygments_lexer": "ipython3",
   "version": "3.10.12"
  }
 },
 "nbformat": 4,
 "nbformat_minor": 5
}
