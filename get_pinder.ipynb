{
 "cells": [
  {
   "cell_type": "code",
   "execution_count": 20,
   "id": "2b4b5f3e-f880-40af-ba52-c78f2c168725",
   "metadata": {},
   "outputs": [],
   "source": [
    "from pinder.core import PinderLoader\n",
    "from pinder.core import get_pinder_location\n",
    "\n",
    "loader = PinderLoader(\n",
    "    split=\"test\",\n",
    "    subset=\"pinder_s\",\n",
    ")\n"
   ]
  },
  {
   "cell_type": "code",
   "execution_count": 23,
   "id": "b871d998-8679-48b8-9f38-3fa6da2f66e7",
   "metadata": {},
   "outputs": [],
   "source": [
    "for b in loader:\n",
    "    data = b\n",
    "    break"
   ]
  },
  {
   "cell_type": "code",
   "execution_count": 29,
   "id": "2714bc0c-f0b2-4232-a4a9-67a6ad4e9a8a",
   "metadata": {},
   "outputs": [
    {
     "data": {
      "text/plain": [
       "Structure(\n",
       "    filepath=/root/.local/share/pinder/2024-02/test_set_pdbs/3k1i__D1_O25709-R--3k1i__A1_O25448-L.pdb,\n",
       "    uniprot_map=<class 'pandas.core.frame.DataFrame'> with shape (309, 14),\n",
       "    pinder_id='3k1i__D1_O25709-R--3k1i__A1_O25448-L',\n",
       "    atom_array=<class 'biotite.structure.AtomArray'> with shape (1807,),\n",
       "    pdb_engine='fastpdb',\n",
       ")"
      ]
     },
     "execution_count": 29,
     "metadata": {},
     "output_type": "execute_result"
    }
   ],
   "source": [
    "data[2]"
   ]
  },
  {
   "cell_type": "code",
   "execution_count": null,
   "id": "2631d263-27bb-4814-8f9e-7c7e8ca19220",
   "metadata": {},
   "outputs": [],
   "source": []
  }
 ],
 "metadata": {
  "kernelspec": {
   "display_name": "Python 3 (ipykernel)",
   "language": "python",
   "name": "python3"
  },
  "language_info": {
   "codemirror_mode": {
    "name": "ipython",
    "version": 3
   },
   "file_extension": ".py",
   "mimetype": "text/x-python",
   "name": "python",
   "nbconvert_exporter": "python",
   "pygments_lexer": "ipython3",
   "version": "3.10.12"
  }
 },
 "nbformat": 4,
 "nbformat_minor": 5
}
