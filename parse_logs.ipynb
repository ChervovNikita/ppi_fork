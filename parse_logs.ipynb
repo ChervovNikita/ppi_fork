{
 "cells": [
  {
   "cell_type": "code",
   "execution_count": 1,
   "id": "09cf37fb-4b7a-48e3-a1f0-4d890c17a713",
   "metadata": {},
   "outputs": [],
   "source": [
    "import os\n",
    "\n",
    "name = 'GCNN_mutual_attention_l1_dropout_01_run_5'\n",
    "logs = [open(f'log_dir/{name}/{log}', 'r').readlines() for log in os.listdir(f'log_dir/{name}') if '.log' in log]"
   ]
  },
  {
   "cell_type": "code",
   "execution_count": 2,
   "id": "8554931d-11a2-4c55-9aa5-48ebc4b719fa",
   "metadata": {},
   "outputs": [
    {
     "data": {
      "text/plain": [
       "['4.log', '3.log', '2.log', '1.log', '0.log']"
      ]
     },
     "execution_count": 2,
     "metadata": {},
     "output_type": "execute_result"
    }
   ],
   "source": [
    "[log for log in os.listdir(f'log_dir/{name}') if '.log' in log]"
   ]
  },
  {
   "cell_type": "code",
   "execution_count": 3,
   "id": "510cf97a-3657-4c5d-a180-88cad21c39a5",
   "metadata": {},
   "outputs": [
    {
     "name": "stdout",
     "output_type": "stream",
     "text": [
      "['Early stopping!\\n', 'min_val_loss : 0.1032601073384285 for epoch 2 ............... best_val_accuracy : 87.05972434915773 for epoch 4\\n', 'Model saved\\n']\n",
      "\n",
      "\n",
      "\n",
      "\n",
      "['Early stopping!\\n', 'min_val_loss : 0.10306515544652939 for epoch 3 ............... best_val_accuracy : 86.29402756508424 for epoch 3\\n', 'Model saved\\n']\n",
      "\n",
      "\n",
      "\n",
      "\n",
      "['Early stopping!\\n', 'min_val_loss : 0.09696967154741287 for epoch 4 ............... best_val_accuracy : 86.98315467075038 for epoch 5\\n', 'Model saved\\n']\n",
      "\n",
      "\n",
      "\n",
      "\n",
      "['Early stopping!\\n', 'min_val_loss : 0.11725203692913055 for epoch 2 ............... best_val_accuracy : 85.4628921193573 for epoch 5\\n', 'Model saved\\n']\n",
      "\n",
      "\n",
      "\n",
      "\n",
      "['Early stopping!\\n', 'min_val_loss : 0.08642864972352982 for epoch 2 ............... best_val_accuracy : 89.21193573068095 for epoch 2\\n', 'Model saved\\n']\n",
      "\n",
      "\n",
      "\n",
      "\n"
     ]
    }
   ],
   "source": [
    "for log in logs:\n",
    "    print(log[-3:])\n",
    "    print()\n",
    "    print()\n",
    "    print()\n",
    "    print()"
   ]
  },
  {
   "cell_type": "code",
   "execution_count": 4,
   "id": "c1e7bd12-8dc6-4f90-887f-adbe7f82dab3",
   "metadata": {},
   "outputs": [],
   "source": []
  },
  {
   "cell_type": "code",
   "execution_count": 6,
   "id": "0a742093-528e-4e5a-af69-0912d7ad8cde",
   "metadata": {},
   "outputs": [
    {
     "data": {
      "text/plain": [
       "87.00234688700611"
      ]
     },
     "execution_count": 6,
     "metadata": {},
     "output_type": "execute_result"
    }
   ],
   "source": [
    "import numpy as np\n",
    "\n",
    "# GCNN_mutual_attention_l1_dropout_01_run_5\n",
    "\n",
    "t = \"\"\"87.05972434915773\n",
    "86.29402756508424\n",
    "86.98315467075038\n",
    "85.4628921193573\n",
    "89.21193573068095\"\"\"\n",
    "t = t.split()\n",
    "t = map(float, t)\n",
    "\n",
    "np.mean(list(t))"
   ]
  },
  {
   "cell_type": "code",
   "execution_count": 4,
   "id": "e2bf88dd-80f5-411a-93d0-bc8b501d42b8",
   "metadata": {},
   "outputs": [
    {
     "data": {
      "text/plain": [
       "1"
      ]
     },
     "execution_count": 4,
     "metadata": {},
     "output_type": "execute_result"
    }
   ],
   "source": [
    "1"
   ]
  },
  {
   "cell_type": "code",
   "execution_count": null,
   "id": "cf9c159c-fd6b-4634-90b5-04a4bd927bb6",
   "metadata": {},
   "outputs": [],
   "source": [
    "# model = GCNN_mutual_attention(num_layers=1) [85.69242540168325, 87.28943338437979, 87.36600306278713, 86.75344563552832, 89.82402448355012] == simple_run\n",
    "# 87.38506639358573\n",
    "\n",
    "# model = GCNN() [86.52373660030628, 86.67687595712098, 87.67228177641654, 85.6159143075746, 89.28844682478959] == baseline_run\n",
    "# 87.1554510932416\n",
    "\n",
    "# model = GCNN_with_descriptors(num_features_pro=1024, output_dim=128, dropout=0.2, descriptor_dim=80, transformer_dim=31, nhead=4, num_layers=2, dim_feedforward=128)\n",
    "# 86.40548\n",
    "\n",
    "# model = GCNN_desc_pool()\n",
    "# 86.84921\n",
    "\n",
    "# model = GCNN_mutual_attention(num_layers=1, dropout=0.1)\n",
    "# 87.00234688700611\n",
    "\n",
    "# model = GCNN_mutual_attention(num_layers=2)\n",
    "# 86.71149927765559\n",
    "\n",
    "# model = model = GCNN_with_descriptors(num_features_pro=1024, output_dim=128, dropout=0.2, descriptor_dim=80, transformer_dim=31, nhead=4, num_layers=1, dim_feedforward=128)\n",
    "# 87.20135774970679"
   ]
  }
 ],
 "metadata": {
  "kernelspec": {
   "display_name": "Python 3 (ipykernel)",
   "language": "python",
   "name": "python3"
  },
  "language_info": {
   "codemirror_mode": {
    "name": "ipython",
    "version": 3
   },
   "file_extension": ".py",
   "mimetype": "text/x-python",
   "name": "python",
   "nbconvert_exporter": "python",
   "pygments_lexer": "ipython3",
   "version": "3.10.12"
  }
 },
 "nbformat": 4,
 "nbformat_minor": 5
}
