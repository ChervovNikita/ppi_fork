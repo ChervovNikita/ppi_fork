{
 "cells": [
  {
   "cell_type": "code",
   "execution_count": 1,
   "id": "027469f8-f09b-4ff4-9333-f229a7f6bbdc",
   "metadata": {},
   "outputs": [],
   "source": [
    "import os\n",
    "import pandas as pd\n",
    "import numpy as np"
   ]
  },
  {
   "cell_type": "code",
   "execution_count": 3,
   "id": "8ac0eb0b-c770-4767-8c0b-7e2e349a6742",
   "metadata": {},
   "outputs": [],
   "source": [
    "can_use = os.listdir('../human_features/processed')"
   ]
  },
  {
   "cell_type": "code",
   "execution_count": 4,
   "id": "b6cd5e27-6a4d-4433-b238-7804adc60bb8",
   "metadata": {},
   "outputs": [
    {
     "data": {
      "text/plain": [
       "7209"
      ]
     },
     "execution_count": 4,
     "metadata": {},
     "output_type": "execute_result"
    }
   ],
   "source": [
    "can_use = [t.strip('.pt') for t in can_use]\n",
    "len(can_use)"
   ]
  },
  {
   "cell_type": "code",
   "execution_count": 11,
   "id": "f4809852-808d-43d1-8e83-a24e3b9c2ec0",
   "metadata": {},
   "outputs": [
    {
     "data": {
      "text/plain": [
       "5922"
      ]
     },
     "execution_count": 11,
     "metadata": {},
     "output_type": "execute_result"
    }
   ],
   "source": [
    "full_npy = np.load('../human_features/npy_hs-test.npy')\n",
    "len(full_npy)"
   ]
  },
  {
   "cell_type": "code",
   "execution_count": 6,
   "id": "ac794ec4-783a-4650-bb42-2af5016bcfb0",
   "metadata": {},
   "outputs": [],
   "source": [
    "good_ids = []\n",
    "for i in range(full_npy.shape[0]):\n",
    "    if full_npy[i, 2] in can_use and full_npy[i, 5] in can_use:\n",
    "        good_ids.append(i)"
   ]
  },
  {
   "cell_type": "code",
   "execution_count": 8,
   "id": "367a36dc-03b0-4974-92a1-cfbd6cd50c72",
   "metadata": {},
   "outputs": [],
   "source": [
    "filtered_npy = full_npy[good_ids]"
   ]
  },
  {
   "cell_type": "code",
   "execution_count": 9,
   "id": "869fbf5c-b35d-4474-a709-8cefe509690b",
   "metadata": {},
   "outputs": [
    {
     "data": {
      "text/plain": [
       "((5922, 7), (5922, 7))"
      ]
     },
     "execution_count": 9,
     "metadata": {},
     "output_type": "execute_result"
    }
   ],
   "source": [
    "filtered_npy.shape, full_npy.shape"
   ]
  },
  {
   "cell_type": "code",
   "execution_count": 10,
   "id": "0861cae7-0b88-4be1-8914-a6d99719f72b",
   "metadata": {},
   "outputs": [],
   "source": [
    "output = '../human_features/npy_file_test.npy'\n",
    "with open(output, 'wb') as f:\n",
    "    np.save(f, filtered_npy)"
   ]
  },
  {
   "cell_type": "code",
   "execution_count": null,
   "id": "137b676c-af68-4cfd-974f-5a1b478cb9c6",
   "metadata": {},
   "outputs": [],
   "source": []
  }
 ],
 "metadata": {
  "kernelspec": {
   "display_name": "Python 3 (ipykernel)",
   "language": "python",
   "name": "python3"
  },
  "language_info": {
   "codemirror_mode": {
    "name": "ipython",
    "version": 3
   },
   "file_extension": ".py",
   "mimetype": "text/x-python",
   "name": "python",
   "nbconvert_exporter": "python",
   "pygments_lexer": "ipython3",
   "version": "3.10.12"
  }
 },
 "nbformat": 4,
 "nbformat_minor": 5
}
