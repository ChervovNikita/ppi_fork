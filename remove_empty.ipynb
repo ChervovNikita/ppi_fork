{
 "cells": [
  {
   "cell_type": "code",
   "execution_count": 50,
   "id": "027469f8-f09b-4ff4-9333-f229a7f6bbdc",
   "metadata": {},
   "outputs": [],
   "source": [
    "import os\n",
    "import pandas as pd\n",
    "import numpy as np"
   ]
  },
  {
   "cell_type": "code",
   "execution_count": 51,
   "id": "8ac0eb0b-c770-4767-8c0b-7e2e349a6742",
   "metadata": {},
   "outputs": [],
   "source": [
    "can_use = os.listdir('../human_features/processed')"
   ]
  },
  {
   "cell_type": "code",
   "execution_count": 52,
   "id": "b6cd5e27-6a4d-4433-b238-7804adc60bb8",
   "metadata": {},
   "outputs": [
    {
     "data": {
      "text/plain": [
       "5959"
      ]
     },
     "execution_count": 52,
     "metadata": {},
     "output_type": "execute_result"
    }
   ],
   "source": [
    "can_use = [t.strip('.pt') for t in can_use if (t.endswith('.pt') and t not in ['re_filter.pt', 're_transform.pt'])]\n",
    "len(can_use)"
   ]
  },
  {
   "cell_type": "code",
   "execution_count": null,
   "id": "a0c631a6-c0e0-433f-a400-edc387eb59be",
   "metadata": {},
   "outputs": [],
   "source": []
  },
  {
   "cell_type": "code",
   "execution_count": 53,
   "id": "52808acf-3a8d-42ac-9186-35f77e49f50e",
   "metadata": {},
   "outputs": [
    {
     "name": "stdout",
     "output_type": "stream",
     "text": [
      "re_transform\n",
      "re_filter\n"
     ]
    },
    {
     "data": {
      "text/plain": [
       "(5957, 0)"
      ]
     },
     "execution_count": 53,
     "metadata": {},
     "output_type": "execute_result"
    }
   ],
   "source": [
    "import torch\n",
    "import glob\n",
    "processed_dir = '../human_features/processed'\n",
    "bad_cnt = 0\n",
    "good_cnt = 0\n",
    "for path in can_use:\n",
    "    try:\n",
    "        prot_1 = os.path.join(processed_dir, path+\".pt\")\n",
    "        prot_1 = torch.load(glob.glob(prot_1)[0])\n",
    "        if prot_1.x.shape[1] == 1280:\n",
    "            good_cnt += 1\n",
    "        else:\n",
    "            bad_cnt += 1\n",
    "    except:\n",
    "        print(path)\n",
    "good_cnt, bad_cnt"
   ]
  },
  {
   "cell_type": "code",
   "execution_count": 54,
   "id": "9b339d11-b759-4746-9495-51bf08e45f4c",
   "metadata": {},
   "outputs": [],
   "source": [
    "full_npy = np.load('../human_features/full_npy_train.npy')"
   ]
  },
  {
   "cell_type": "code",
   "execution_count": 55,
   "id": "cdddf44f-0acb-402a-a535-7f05f76a7129",
   "metadata": {},
   "outputs": [],
   "source": [
    "can_use_set = set(can_use)\n",
    "\n",
    "good_ids = []\n",
    "for i in range(full_npy.shape[0]):\n",
    "    if full_npy[i, 2] in can_use_set and full_npy[i, 5] in can_use_set:\n",
    "        good_ids.append(i)"
   ]
  },
  {
   "cell_type": "code",
   "execution_count": 56,
   "id": "11f4c230-5ac5-4d46-b0a3-307a39153ca2",
   "metadata": {},
   "outputs": [],
   "source": [
    "updated_npy = full_npy[good_ids]"
   ]
  },
  {
   "cell_type": "code",
   "execution_count": 57,
   "id": "39782a02-6132-4de9-9fdc-15fae9301afb",
   "metadata": {},
   "outputs": [],
   "source": [
    "output = '../human_features/npy_file_new(human_dataset).npy'\n",
    "with open(output, 'wb') as f:\n",
    "    np.save(f, updated_npy)"
   ]
  },
  {
   "cell_type": "code",
   "execution_count": null,
   "id": "cc07922c-2699-4b4e-aa40-290b9f941bb1",
   "metadata": {},
   "outputs": [],
   "source": []
  },
  {
   "cell_type": "code",
   "execution_count": null,
   "id": "6f346571-9403-41fc-b944-8fbd27120d42",
   "metadata": {},
   "outputs": [],
   "source": []
  },
  {
   "cell_type": "code",
   "execution_count": null,
   "id": "f3c009b7-cd26-4cc1-ae22-b91e080f94bc",
   "metadata": {},
   "outputs": [],
   "source": []
  },
  {
   "cell_type": "code",
   "execution_count": 11,
   "id": "f4809852-808d-43d1-8e83-a24e3b9c2ec0",
   "metadata": {},
   "outputs": [
    {
     "data": {
      "text/plain": [
       "5922"
      ]
     },
     "execution_count": 11,
     "metadata": {},
     "output_type": "execute_result"
    }
   ],
   "source": [
    "full_npy = np.load('../human_features/npy_hs-test.npy')\n",
    "len(full_npy)"
   ]
  },
  {
   "cell_type": "code",
   "execution_count": 6,
   "id": "ac794ec4-783a-4650-bb42-2af5016bcfb0",
   "metadata": {},
   "outputs": [],
   "source": [
    "good_ids = []\n",
    "for i in range(full_npy.shape[0]):\n",
    "    if full_npy[i, 2] in can_use and full_npy[i, 5] in can_use:\n",
    "        good_ids.append(i)"
   ]
  },
  {
   "cell_type": "code",
   "execution_count": 8,
   "id": "367a36dc-03b0-4974-92a1-cfbd6cd50c72",
   "metadata": {},
   "outputs": [],
   "source": [
    "filtered_npy = full_npy[good_ids]"
   ]
  },
  {
   "cell_type": "code",
   "execution_count": 9,
   "id": "869fbf5c-b35d-4474-a709-8cefe509690b",
   "metadata": {},
   "outputs": [
    {
     "data": {
      "text/plain": [
       "((5922, 7), (5922, 7))"
      ]
     },
     "execution_count": 9,
     "metadata": {},
     "output_type": "execute_result"
    }
   ],
   "source": [
    "filtered_npy.shape, full_npy.shape"
   ]
  },
  {
   "cell_type": "code",
   "execution_count": 10,
   "id": "0861cae7-0b88-4be1-8914-a6d99719f72b",
   "metadata": {},
   "outputs": [],
   "source": [
    "output = '../human_features/npy_file_test.npy'\n",
    "with open(output, 'wb') as f:\n",
    "    np.save(f, filtered_npy)"
   ]
  },
  {
   "cell_type": "code",
   "execution_count": null,
   "id": "137b676c-af68-4cfd-974f-5a1b478cb9c6",
   "metadata": {},
   "outputs": [],
   "source": []
  }
 ],
 "metadata": {
  "kernelspec": {
   "display_name": "Python 3 (ipykernel)",
   "language": "python",
   "name": "python3"
  },
  "language_info": {
   "codemirror_mode": {
    "name": "ipython",
    "version": 3
   },
   "file_extension": ".py",
   "mimetype": "text/x-python",
   "name": "python",
   "nbconvert_exporter": "python",
   "pygments_lexer": "ipython3",
   "version": "3.10.12"
  }
 },
 "nbformat": 4,
 "nbformat_minor": 5
}
